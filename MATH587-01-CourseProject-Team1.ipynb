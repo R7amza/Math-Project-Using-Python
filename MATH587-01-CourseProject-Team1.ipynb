{
 "cells": [
  {
   "cell_type": "markdown",
   "id": "767c1af9",
   "metadata": {},
   "source": [
    "## Please follow this source (case):\n",
    "\n",
    "https://thinkingneuron.com/computer-price-prediction-case-study-in-python/"
   ]
  },
  {
   "cell_type": "code",
   "execution_count": 1,
   "id": "2d49330a",
   "metadata": {},
   "outputs": [],
   "source": [
    "import pandas as pd \n",
    "import numpy as np"
   ]
  },
  {
   "cell_type": "code",
   "execution_count": 2,
   "id": "d0982c04",
   "metadata": {},
   "outputs": [
    {
     "data": {
      "text/plain": [
       "(896, 25)"
      ]
     },
     "execution_count": 2,
     "metadata": {},
     "output_type": "execute_result"
    }
   ],
   "source": [
    "df = pd.read_csv('Cleansed_v1.1.csv')\n",
    "df.shape"
   ]
  },
  {
   "cell_type": "markdown",
   "id": "8da62403",
   "metadata": {},
   "source": [
    "## Extended Data Dictionary "
   ]
  },
  {
   "cell_type": "code",
   "execution_count": 3,
   "id": "799754b8",
   "metadata": {},
   "outputs": [
    {
     "data": {
      "text/html": [
       "<div>\n",
       "<style scoped>\n",
       "    .dataframe tbody tr th:only-of-type {\n",
       "        vertical-align: middle;\n",
       "    }\n",
       "\n",
       "    .dataframe tbody tr th {\n",
       "        vertical-align: top;\n",
       "    }\n",
       "\n",
       "    .dataframe thead th {\n",
       "        text-align: right;\n",
       "    }\n",
       "</style>\n",
       "<table border=\"1\" class=\"dataframe\">\n",
       "  <thead>\n",
       "    <tr style=\"text-align: right;\">\n",
       "      <th></th>\n",
       "      <th>ram_</th>\n",
       "      <th>ssd</th>\n",
       "      <th>hdd</th>\n",
       "      <th>Rom_is_SSD</th>\n",
       "      <th>ROM_Capacity</th>\n",
       "      <th>graphic_card_</th>\n",
       "      <th>External_graphic_card</th>\n",
       "      <th>display_size</th>\n",
       "      <th>warranty</th>\n",
       "      <th>latest_price_USD</th>\n",
       "      <th>old_price_USD</th>\n",
       "      <th>star_rating</th>\n",
       "      <th>ratings</th>\n",
       "      <th>reviews</th>\n",
       "    </tr>\n",
       "  </thead>\n",
       "  <tbody>\n",
       "    <tr>\n",
       "      <th>count</th>\n",
       "      <td>896.000000</td>\n",
       "      <td>896.000000</td>\n",
       "      <td>896.000000</td>\n",
       "      <td>896.000000</td>\n",
       "      <td>896.000000</td>\n",
       "      <td>896.000000</td>\n",
       "      <td>896.000000</td>\n",
       "      <td>564.000000</td>\n",
       "      <td>896.000000</td>\n",
       "      <td>896.000000</td>\n",
       "      <td>896.000000</td>\n",
       "      <td>896.000000</td>\n",
       "      <td>896.000000</td>\n",
       "      <td>896.000000</td>\n",
       "    </tr>\n",
       "    <tr>\n",
       "      <th>mean</th>\n",
       "      <td>8.531250</td>\n",
       "      <td>432.321429</td>\n",
       "      <td>226.857143</td>\n",
       "      <td>0.831473</td>\n",
       "      <td>570.035714</td>\n",
       "      <td>1.198661</td>\n",
       "      <td>0.295759</td>\n",
       "      <td>15.122021</td>\n",
       "      <td>0.691964</td>\n",
       "      <td>992.028186</td>\n",
       "      <td>1145.744002</td>\n",
       "      <td>2.980469</td>\n",
       "      <td>367.391741</td>\n",
       "      <td>46.152902</td>\n",
       "    </tr>\n",
       "    <tr>\n",
       "      <th>std</th>\n",
       "      <td>4.376055</td>\n",
       "      <td>316.118420</td>\n",
       "      <td>405.394129</td>\n",
       "      <td>0.374542</td>\n",
       "      <td>294.627406</td>\n",
       "      <td>2.057454</td>\n",
       "      <td>0.456638</td>\n",
       "      <td>0.984664</td>\n",
       "      <td>0.606282</td>\n",
       "      <td>605.973607</td>\n",
       "      <td>724.355392</td>\n",
       "      <td>1.965254</td>\n",
       "      <td>1106.309355</td>\n",
       "      <td>136.079586</td>\n",
       "    </tr>\n",
       "    <tr>\n",
       "      <th>min</th>\n",
       "      <td>4.000000</td>\n",
       "      <td>0.000000</td>\n",
       "      <td>0.000000</td>\n",
       "      <td>0.000000</td>\n",
       "      <td>32.000000</td>\n",
       "      <td>0.000000</td>\n",
       "      <td>0.000000</td>\n",
       "      <td>12.200000</td>\n",
       "      <td>0.000000</td>\n",
       "      <td>181.870000</td>\n",
       "      <td>0.000000</td>\n",
       "      <td>0.000000</td>\n",
       "      <td>0.000000</td>\n",
       "      <td>0.000000</td>\n",
       "    </tr>\n",
       "    <tr>\n",
       "      <th>25%</th>\n",
       "      <td>4.000000</td>\n",
       "      <td>256.000000</td>\n",
       "      <td>0.000000</td>\n",
       "      <td>1.000000</td>\n",
       "      <td>512.000000</td>\n",
       "      <td>0.000000</td>\n",
       "      <td>0.000000</td>\n",
       "      <td>14.000000</td>\n",
       "      <td>0.000000</td>\n",
       "      <td>591.370000</td>\n",
       "      <td>714.226500</td>\n",
       "      <td>0.000000</td>\n",
       "      <td>0.000000</td>\n",
       "      <td>0.000000</td>\n",
       "    </tr>\n",
       "    <tr>\n",
       "      <th>50%</th>\n",
       "      <td>8.000000</td>\n",
       "      <td>512.000000</td>\n",
       "      <td>0.000000</td>\n",
       "      <td>1.000000</td>\n",
       "      <td>512.000000</td>\n",
       "      <td>0.000000</td>\n",
       "      <td>0.000000</td>\n",
       "      <td>15.600000</td>\n",
       "      <td>1.000000</td>\n",
       "      <td>825.422000</td>\n",
       "      <td>1014.682500</td>\n",
       "      <td>4.100000</td>\n",
       "      <td>19.000000</td>\n",
       "      <td>3.000000</td>\n",
       "    </tr>\n",
       "    <tr>\n",
       "      <th>75%</th>\n",
       "      <td>8.000000</td>\n",
       "      <td>512.000000</td>\n",
       "      <td>512.000000</td>\n",
       "      <td>1.000000</td>\n",
       "      <td>512.000000</td>\n",
       "      <td>2.000000</td>\n",
       "      <td>1.000000</td>\n",
       "      <td>16.000000</td>\n",
       "      <td>1.000000</td>\n",
       "      <td>1158.170000</td>\n",
       "      <td>1443.253500</td>\n",
       "      <td>4.400000</td>\n",
       "      <td>179.500000</td>\n",
       "      <td>23.250000</td>\n",
       "    </tr>\n",
       "    <tr>\n",
       "      <th>max</th>\n",
       "      <td>32.000000</td>\n",
       "      <td>3072.000000</td>\n",
       "      <td>2048.000000</td>\n",
       "      <td>1.000000</td>\n",
       "      <td>3072.000000</td>\n",
       "      <td>8.000000</td>\n",
       "      <td>1.000000</td>\n",
       "      <td>17.300000</td>\n",
       "      <td>3.000000</td>\n",
       "      <td>5745.870000</td>\n",
       "      <td>4911.374000</td>\n",
       "      <td>5.000000</td>\n",
       "      <td>15279.000000</td>\n",
       "      <td>1947.000000</td>\n",
       "    </tr>\n",
       "  </tbody>\n",
       "</table>\n",
       "</div>"
      ],
      "text/plain": [
       "             ram_          ssd          hdd  Rom_is_SSD  ROM_Capacity  \\\n",
       "count  896.000000   896.000000   896.000000  896.000000    896.000000   \n",
       "mean     8.531250   432.321429   226.857143    0.831473    570.035714   \n",
       "std      4.376055   316.118420   405.394129    0.374542    294.627406   \n",
       "min      4.000000     0.000000     0.000000    0.000000     32.000000   \n",
       "25%      4.000000   256.000000     0.000000    1.000000    512.000000   \n",
       "50%      8.000000   512.000000     0.000000    1.000000    512.000000   \n",
       "75%      8.000000   512.000000   512.000000    1.000000    512.000000   \n",
       "max     32.000000  3072.000000  2048.000000    1.000000   3072.000000   \n",
       "\n",
       "       graphic_card_  External_graphic_card  display_size    warranty  \\\n",
       "count     896.000000             896.000000    564.000000  896.000000   \n",
       "mean        1.198661               0.295759     15.122021    0.691964   \n",
       "std         2.057454               0.456638      0.984664    0.606282   \n",
       "min         0.000000               0.000000     12.200000    0.000000   \n",
       "25%         0.000000               0.000000     14.000000    0.000000   \n",
       "50%         0.000000               0.000000     15.600000    1.000000   \n",
       "75%         2.000000               1.000000     16.000000    1.000000   \n",
       "max         8.000000               1.000000     17.300000    3.000000   \n",
       "\n",
       "       latest_price_USD  old_price_USD  star_rating       ratings      reviews  \n",
       "count        896.000000     896.000000   896.000000    896.000000   896.000000  \n",
       "mean         992.028186    1145.744002     2.980469    367.391741    46.152902  \n",
       "std          605.973607     724.355392     1.965254   1106.309355   136.079586  \n",
       "min          181.870000       0.000000     0.000000      0.000000     0.000000  \n",
       "25%          591.370000     714.226500     0.000000      0.000000     0.000000  \n",
       "50%          825.422000    1014.682500     4.100000     19.000000     3.000000  \n",
       "75%         1158.170000    1443.253500     4.400000    179.500000    23.250000  \n",
       "max         5745.870000    4911.374000     5.000000  15279.000000  1947.000000  "
      ]
     },
     "execution_count": 3,
     "metadata": {},
     "output_type": "execute_result"
    }
   ],
   "source": [
    "df.describe()"
   ]
  },
  {
   "cell_type": "markdown",
   "id": "38ea6b65",
   "metadata": {},
   "source": [
    "## Basic Data Exploration"
   ]
  },
  {
   "cell_type": "code",
   "execution_count": 4,
   "id": "5d7026f1",
   "metadata": {},
   "outputs": [
    {
     "name": "stdout",
     "output_type": "stream",
     "text": [
      "<class 'pandas.core.frame.DataFrame'>\n",
      "RangeIndex: 896 entries, 0 to 895\n",
      "Data columns (total 25 columns):\n",
      " #   Column                 Non-Null Count  Dtype  \n",
      "---  ------                 --------------  -----  \n",
      " 0   brand                  896 non-null    object \n",
      " 1   model                  801 non-null    object \n",
      " 2   processor_brand        896 non-null    object \n",
      " 3   processor_name         896 non-null    object \n",
      " 4   processor_gnrtn        896 non-null    object \n",
      " 5   ram_                   896 non-null    int64  \n",
      " 6   ram_type               896 non-null    object \n",
      " 7   ssd                    896 non-null    int64  \n",
      " 8   hdd                    896 non-null    int64  \n",
      " 9   Rom_is_SSD             896 non-null    int64  \n",
      " 10  ROM_Capacity           896 non-null    int64  \n",
      " 11  os                     896 non-null    object \n",
      " 12  os_bit                 896 non-null    object \n",
      " 13  graphic_card_          896 non-null    int64  \n",
      " 14  External_graphic_card  896 non-null    int64  \n",
      " 15  weight                 896 non-null    object \n",
      " 16  display_size           564 non-null    float64\n",
      " 17  warranty               896 non-null    int64  \n",
      " 18  Touchscreen            896 non-null    object \n",
      " 19  msoffice               896 non-null    object \n",
      " 20  latest_price_USD       896 non-null    float64\n",
      " 21  old_price_USD          896 non-null    float64\n",
      " 22  star_rating            896 non-null    float64\n",
      " 23  ratings                896 non-null    int64  \n",
      " 24  reviews                896 non-null    int64  \n",
      "dtypes: float64(4), int64(10), object(11)\n",
      "memory usage: 175.1+ KB\n"
     ]
    }
   ],
   "source": [
    "df.info()"
   ]
  },
  {
   "cell_type": "code",
   "execution_count": null,
   "id": "1978c4d3",
   "metadata": {},
   "outputs": [],
   "source": []
  },
  {
   "cell_type": "markdown",
   "id": "46ba8810",
   "metadata": {},
   "source": [
    "## Removing useless columns from the data"
   ]
  },
  {
   "cell_type": "code",
   "execution_count": 5,
   "id": "8342d8e1",
   "metadata": {},
   "outputs": [],
   "source": [
    "# Deleted \"model\" due to high cardinaltiy and \"display_size\" cause of large number of missing values.\n",
    "# \"ssd\" & \"hdd\", a categorical variable \"Rom_is_SSD\" was derived from them.\n",
    "# \"ssd\" & \"hdd\", a numerical variable \"ROM_Capacity\" was derived from them.\n",
    "df.drop(['ssd','hdd'],axis=1, inplace=True) "
   ]
  },
  {
   "cell_type": "markdown",
   "id": "6fc88972",
   "metadata": {},
   "source": [
    "## Missing values treatment"
   ]
  },
  {
   "cell_type": "code",
   "execution_count": 6,
   "id": "8fe87df2",
   "metadata": {},
   "outputs": [],
   "source": [
    "# Deleted \"model\" variable due to high cardinaltiy and missing values.\n",
    "# Deleted \"display_size\" variable cause of large number of missing values.\n",
    "df.drop(['model','display_size'],axis=1, inplace=True) \n",
    "\n",
    "\n",
    "# Note: If a column has more than 30% data missing, then missing value treatment cannot be done. \n",
    "# That column must be rejected because too much information is missing."
   ]
  },
  {
   "cell_type": "code",
   "execution_count": 7,
   "id": "8ea022c3",
   "metadata": {},
   "outputs": [
    {
     "data": {
      "text/plain": [
       "brand                    0\n",
       "processor_brand          0\n",
       "processor_name           0\n",
       "processor_gnrtn          0\n",
       "ram_                     0\n",
       "ram_type                 0\n",
       "Rom_is_SSD               0\n",
       "ROM_Capacity             0\n",
       "os                       0\n",
       "os_bit                   0\n",
       "graphic_card_            0\n",
       "External_graphic_card    0\n",
       "weight                   0\n",
       "warranty                 0\n",
       "Touchscreen              0\n",
       "msoffice                 0\n",
       "latest_price_USD         0\n",
       "old_price_USD            0\n",
       "star_rating              0\n",
       "ratings                  0\n",
       "reviews                  0\n",
       "dtype: int64"
      ]
     },
     "execution_count": 7,
     "metadata": {},
     "output_type": "execute_result"
    }
   ],
   "source": [
    "df.isnull().sum()"
   ]
  },
  {
   "cell_type": "markdown",
   "id": "1b3189ab",
   "metadata": {},
   "source": [
    "## Outlier treatment"
   ]
  },
  {
   "cell_type": "code",
   "execution_count": 8,
   "id": "7980fb36",
   "metadata": {},
   "outputs": [],
   "source": [
    "lower_limit=df['ram_'].quantile(0)\n",
    "upper_limit=df['ram_'].quantile(0.95)\n",
    "\n",
    "lower_limit=df['warranty'].quantile(0)\n",
    "upper_limit=df['warranty'].quantile(0.95)\n",
    "\n",
    "lower_limit=df['graphic_card_'].quantile(0)\n",
    "upper_limit=df['graphic_card_'].quantile(0.95)\n",
    "\n",
    "lower_limit=df['reviews'].quantile(0)\n",
    "upper_limit=df['reviews'].quantile(0.95)\n",
    "\n",
    "lower_limit=df['ROM_Capacity'].quantile(0)\n",
    "upper_limit=df['ROM_Capacity'].quantile(0.95)\n",
    "\n",
    "lower_limit=df['latest_price_USD'].quantile(0)\n",
    "upper_limit=df['latest_price_USD'].quantile(0.95)\n",
    "\n",
    "lower_limit=df['old_price_USD'].quantile(0)\n",
    "upper_limit=df['old_price_USD'].quantile(0.95)\n",
    "\n",
    "#lower_limit=df['ratings'].quantile(0)\n",
    "#upper_limit=df['ratings'].quantile(1)\n",
    "\n",
    "#removing all the outliers from dataset\n",
    "new_df=df[(df['ram_']>lower_limit) & (df['ram_']<upper_limit)]\n",
    "new_df=df[(df['warranty']>lower_limit) & (df['warranty']<upper_limit)]\n",
    "new_df=df[(df['graphic_card_']>lower_limit) & (df['graphic_card_']<upper_limit)]\n",
    "new_df=df[(df['reviews']>lower_limit) & (df['reviews']<upper_limit)]\n",
    "new_df=df[(df['ROM_Capacity']>lower_limit) & (df['ROM_Capacity']<upper_limit)]\n",
    "new_df=df[(df['latest_price_USD']>lower_limit) & (df['latest_price_USD']<upper_limit)]\n",
    "new_df=df[(df['old_price_USD']>lower_limit) & (df['old_price_USD']<upper_limit)]\n",
    "#new_df=df[(df['ratings']>lower_limit) & (df['ratings']<upper_limit)]\n",
    "\n",
    "#new_df.to_csv('Cleansed_v4.csv', index=False) # To export the data to csv file."
   ]
  },
  {
   "cell_type": "code",
   "execution_count": 9,
   "id": "198b5c7a",
   "metadata": {},
   "outputs": [
    {
     "name": "stdout",
     "output_type": "stream",
     "text": [
      "Number of removed outliers: 96 \n",
      "New data shape: (800, 21)\n"
     ]
    }
   ],
   "source": [
    "print(\"Number of removed outliers:\", len(df)-len(new_df), \"\\nNew data shape:\",new_df.shape)  "
   ]
  },
  {
   "cell_type": "code",
   "execution_count": 10,
   "id": "37249a37",
   "metadata": {},
   "outputs": [
    {
     "data": {
      "text/plain": [
       "<AxesSubplot:>"
      ]
     },
     "execution_count": 10,
     "metadata": {},
     "output_type": "execute_result"
    },
    {
     "data": {
      "image/png": "[encoded data removed]",
      "text/plain": [
       "<Figure size 432x288 with 1 Axes>"
      ]
     },
     "metadata": {
      "needs_background": "light"
     },
     "output_type": "display_data"
    }
   ],
   "source": [
    "%matplotlib inline\n",
    "# Creating Bar chart as the Target variable is Continuous\n",
    "new_df['latest_price_USD'].hist()"
   ]
  },
  {
   "cell_type": "code",
   "execution_count": 11,
   "id": "f20287f9",
   "metadata": {
    "scrolled": true
   },
   "outputs": [
    {
     "data": {
      "text/html": [
       "<div>\n",
       "<style scoped>\n",
       "    .dataframe tbody tr th:only-of-type {\n",
       "        vertical-align: middle;\n",
       "    }\n",
       "\n",
       "    .dataframe tbody tr th {\n",
       "        vertical-align: top;\n",
       "    }\n",
       "\n",
       "    .dataframe thead th {\n",
       "        text-align: right;\n",
       "    }\n",
       "</style>\n",
       "<table border=\"1\" class=\"dataframe\">\n",
       "  <thead>\n",
       "    <tr style=\"text-align: right;\">\n",
       "      <th></th>\n",
       "      <th>ram_</th>\n",
       "      <th>Rom_is_SSD</th>\n",
       "      <th>ROM_Capacity</th>\n",
       "      <th>graphic_card_</th>\n",
       "      <th>External_graphic_card</th>\n",
       "      <th>warranty</th>\n",
       "      <th>latest_price_USD</th>\n",
       "      <th>old_price_USD</th>\n",
       "      <th>star_rating</th>\n",
       "      <th>ratings</th>\n",
       "      <th>reviews</th>\n",
       "    </tr>\n",
       "  </thead>\n",
       "  <tbody>\n",
       "    <tr>\n",
       "      <th>count</th>\n",
       "      <td>800.00000</td>\n",
       "      <td>800.000000</td>\n",
       "      <td>800.000000</td>\n",
       "      <td>800.000000</td>\n",
       "      <td>800.000000</td>\n",
       "      <td>800.000000</td>\n",
       "      <td>800.000000</td>\n",
       "      <td>800.000000</td>\n",
       "      <td>800.000000</td>\n",
       "      <td>800.000000</td>\n",
       "      <td>800.000000</td>\n",
       "    </tr>\n",
       "    <tr>\n",
       "      <th>mean</th>\n",
       "      <td>8.24000</td>\n",
       "      <td>0.848750</td>\n",
       "      <td>542.120000</td>\n",
       "      <td>1.020000</td>\n",
       "      <td>0.265000</td>\n",
       "      <td>0.706250</td>\n",
       "      <td>870.378194</td>\n",
       "      <td>1101.472840</td>\n",
       "      <td>3.084500</td>\n",
       "      <td>402.651250</td>\n",
       "      <td>50.138750</td>\n",
       "    </tr>\n",
       "    <tr>\n",
       "      <th>std</th>\n",
       "      <td>4.05005</td>\n",
       "      <td>0.358517</td>\n",
       "      <td>263.179035</td>\n",
       "      <td>1.847665</td>\n",
       "      <td>0.441609</td>\n",
       "      <td>0.598254</td>\n",
       "      <td>383.076855</td>\n",
       "      <td>476.301521</td>\n",
       "      <td>1.905295</td>\n",
       "      <td>1159.883573</td>\n",
       "      <td>141.350422</td>\n",
       "    </tr>\n",
       "    <tr>\n",
       "      <th>min</th>\n",
       "      <td>4.00000</td>\n",
       "      <td>0.000000</td>\n",
       "      <td>32.000000</td>\n",
       "      <td>0.000000</td>\n",
       "      <td>0.000000</td>\n",
       "      <td>0.000000</td>\n",
       "      <td>181.870000</td>\n",
       "      <td>259.987000</td>\n",
       "      <td>0.000000</td>\n",
       "      <td>0.000000</td>\n",
       "      <td>0.000000</td>\n",
       "    </tr>\n",
       "    <tr>\n",
       "      <th>25%</th>\n",
       "      <td>4.00000</td>\n",
       "      <td>1.000000</td>\n",
       "      <td>256.000000</td>\n",
       "      <td>0.000000</td>\n",
       "      <td>0.000000</td>\n",
       "      <td>0.000000</td>\n",
       "      <td>571.870000</td>\n",
       "      <td>742.235000</td>\n",
       "      <td>0.000000</td>\n",
       "      <td>0.000000</td>\n",
       "      <td>0.000000</td>\n",
       "    </tr>\n",
       "    <tr>\n",
       "      <th>50%</th>\n",
       "      <td>8.00000</td>\n",
       "      <td>1.000000</td>\n",
       "      <td>512.000000</td>\n",
       "      <td>0.000000</td>\n",
       "      <td>0.000000</td>\n",
       "      <td>1.000000</td>\n",
       "      <td>779.870000</td>\n",
       "      <td>1017.906500</td>\n",
       "      <td>4.100000</td>\n",
       "      <td>24.500000</td>\n",
       "      <td>3.000000</td>\n",
       "    </tr>\n",
       "    <tr>\n",
       "      <th>75%</th>\n",
       "      <td>8.00000</td>\n",
       "      <td>1.000000</td>\n",
       "      <td>512.000000</td>\n",
       "      <td>2.000000</td>\n",
       "      <td>1.000000</td>\n",
       "      <td>1.000000</td>\n",
       "      <td>1041.592500</td>\n",
       "      <td>1390.870000</td>\n",
       "      <td>4.400000</td>\n",
       "      <td>206.250000</td>\n",
       "      <td>27.000000</td>\n",
       "    </tr>\n",
       "    <tr>\n",
       "      <th>max</th>\n",
       "      <td>32.00000</td>\n",
       "      <td>1.000000</td>\n",
       "      <td>2048.000000</td>\n",
       "      <td>8.000000</td>\n",
       "      <td>1.000000</td>\n",
       "      <td>3.000000</td>\n",
       "      <td>2237.170000</td>\n",
       "      <td>2508.701000</td>\n",
       "      <td>5.000000</td>\n",
       "      <td>15279.000000</td>\n",
       "      <td>1947.000000</td>\n",
       "    </tr>\n",
       "  </tbody>\n",
       "</table>\n",
       "</div>"
      ],
      "text/plain": [
       "            ram_  Rom_is_SSD  ROM_Capacity  graphic_card_  \\\n",
       "count  800.00000  800.000000    800.000000     800.000000   \n",
       "mean     8.24000    0.848750    542.120000       1.020000   \n",
       "std      4.05005    0.358517    263.179035       1.847665   \n",
       "min      4.00000    0.000000     32.000000       0.000000   \n",
       "25%      4.00000    1.000000    256.000000       0.000000   \n",
       "50%      8.00000    1.000000    512.000000       0.000000   \n",
       "75%      8.00000    1.000000    512.000000       2.000000   \n",
       "max     32.00000    1.000000   2048.000000       8.000000   \n",
       "\n",
       "       External_graphic_card    warranty  latest_price_USD  old_price_USD  \\\n",
       "count             800.000000  800.000000        800.000000     800.000000   \n",
       "mean                0.265000    0.706250        870.378194    1101.472840   \n",
       "std                 0.441609    0.598254        383.076855     476.301521   \n",
       "min                 0.000000    0.000000        181.870000     259.987000   \n",
       "25%                 0.000000    0.000000        571.870000     742.235000   \n",
       "50%                 0.000000    1.000000        779.870000    1017.906500   \n",
       "75%                 1.000000    1.000000       1041.592500    1390.870000   \n",
       "max                 1.000000    3.000000       2237.170000    2508.701000   \n",
       "\n",
       "       star_rating       ratings      reviews  \n",
       "count   800.000000    800.000000   800.000000  \n",
       "mean      3.084500    402.651250    50.138750  \n",
       "std       1.905295   1159.883573   141.350422  \n",
       "min       0.000000      0.000000     0.000000  \n",
       "25%       0.000000      0.000000     0.000000  \n",
       "50%       4.100000     24.500000     3.000000  \n",
       "75%       4.400000    206.250000    27.000000  \n",
       "max       5.000000  15279.000000  1947.000000  "
      ]
     },
     "execution_count": 11,
     "metadata": {},
     "output_type": "execute_result"
    }
   ],
   "source": [
    "new_df.describe()"
   ]
  },
  {
   "cell_type": "code",
   "execution_count": 12,
   "id": "19e8fc36",
   "metadata": {},
   "outputs": [
    {
     "name": "stdout",
     "output_type": "stream",
     "text": [
      "<class 'pandas.core.frame.DataFrame'>\n",
      "Int64Index: 800 entries, 0 to 895\n",
      "Data columns (total 21 columns):\n",
      " #   Column                 Non-Null Count  Dtype  \n",
      "---  ------                 --------------  -----  \n",
      " 0   brand                  800 non-null    object \n",
      " 1   processor_brand        800 non-null    object \n",
      " 2   processor_name         800 non-null    object \n",
      " 3   processor_gnrtn        800 non-null    object \n",
      " 4   ram_                   800 non-null    int64  \n",
      " 5   ram_type               800 non-null    object \n",
      " 6   Rom_is_SSD             800 non-null    int64  \n",
      " 7   ROM_Capacity           800 non-null    int64  \n",
      " 8   os                     800 non-null    object \n",
      " 9   os_bit                 800 non-null    object \n",
      " 10  graphic_card_          800 non-null    int64  \n",
      " 11  External_graphic_card  800 non-null    int64  \n",
      " 12  weight                 800 non-null    object \n",
      " 13  warranty               800 non-null    int64  \n",
      " 14  Touchscreen            800 non-null    object \n",
      " 15  msoffice               800 non-null    object \n",
      " 16  latest_price_USD       800 non-null    float64\n",
      " 17  old_price_USD          800 non-null    float64\n",
      " 18  star_rating            800 non-null    float64\n",
      " 19  ratings                800 non-null    int64  \n",
      " 20  reviews                800 non-null    int64  \n",
      "dtypes: float64(3), int64(8), object(10)\n",
      "memory usage: 137.5+ KB\n"
     ]
    }
   ],
   "source": [
    "new_df.info()"
   ]
  },
  {
   "cell_type": "markdown",
   "id": "b9c9ea93",
   "metadata": {},
   "source": [
    "## Visual Exploratory Data Analysis"
   ]
  },
  {
   "cell_type": "code",
   "execution_count": 13,
   "id": "1873b78e",
   "metadata": {},
   "outputs": [],
   "source": [
    "# Plotting multiple bar charts at once for categorical variables\n",
    "# Since there is no default function which can plot bar charts for multiple columns at once\n",
    "# we are defining our own function for the same\n",
    "\n",
    "def PlotBarCharts(inpData, colsToPlot):\n",
    "    %matplotlib inline\n",
    "    \n",
    "    import matplotlib.pyplot as plt\n",
    "    \n",
    "    # Generating multiple subplots\n",
    "    fig, subPlot=plt.subplots(nrows=1, ncols=len(colsToPlot), figsize=(20,5))\n",
    "    fig.suptitle('Bar charts of: '+ str(colsToPlot))\n",
    "\n",
    "    for colName, plotNumber in zip(colsToPlot, range(len(colsToPlot))):\n",
    "        inpData.groupby(colName).size().plot(kind='bar',ax=subPlot[plotNumber])"
   ]
  },
  {
   "cell_type": "code",
   "execution_count": 14,
   "id": "c8b92be6",
   "metadata": {},
   "outputs": [
    {
     "data": {
      "image/png": "[encoded data removed]",
      "text/plain": [
       "<Figure size 1440x360 with 6 Axes>"
      ]
     },
     "metadata": {
      "needs_background": "light"
     },
     "output_type": "display_data"
    }
   ],
   "source": [
    "# Calling the function\n",
    "PlotBarCharts(inpData=new_df, colsToPlot=['brand', 'processor_brand', 'processor_name', 'processor_gnrtn', \n",
    "                                          'ram_type', 'Rom_is_SSD'])"
   ]
  },
  {
   "cell_type": "code",
   "execution_count": 15,
   "id": "9a0f9ac1",
   "metadata": {},
   "outputs": [
    {
     "data": {
      "image/png": "[encoded data removed]",
      "text/plain": [
       "<Figure size 1440x360 with 6 Axes>"
      ]
     },
     "metadata": {
      "needs_background": "light"
     },
     "output_type": "display_data"
    }
   ],
   "source": [
    "PlotBarCharts(inpData=new_df, colsToPlot=['os', 'os_bit', 'External_graphic_card', \n",
    "                                          'weight','Touchscreen', 'msoffice'])"
   ]
  },
  {
   "cell_type": "code",
   "execution_count": null,
   "id": "5c9582c1",
   "metadata": {},
   "outputs": [],
   "source": []
  },
  {
   "cell_type": "code",
   "execution_count": 16,
   "id": "63469b0c",
   "metadata": {},
   "outputs": [
    {
     "data": {
      "text/plain": [
       "array([[<AxesSubplot:title={'center':'ram_'}>,\n",
       "        <AxesSubplot:title={'center':'ROM_Capacity'}>],\n",
       "       [<AxesSubplot:title={'center':'graphic_card_'}>,\n",
       "        <AxesSubplot:title={'center':'warranty'}>]], dtype=object)"
      ]
     },
     "execution_count": 16,
     "metadata": {},
     "output_type": "execute_result"
    },
    {
     "data": {
      "image/png": "[encoded data removed]",
      "text/plain": [
       "<Figure size 1296x720 with 4 Axes>"
      ]
     },
     "metadata": {
      "needs_background": "light"
     },
     "output_type": "display_data"
    }
   ],
   "source": [
    "# Plotting histograms of multiple columns together\n",
    "new_df.hist(['ram_', 'ROM_Capacity', 'graphic_card_', 'warranty'], figsize=(18,10))"
   ]
  },
  {
   "cell_type": "code",
   "execution_count": 17,
   "id": "0397b6c6",
   "metadata": {},
   "outputs": [
    {
     "data": {
      "text/plain": [
       "array([[<AxesSubplot:title={'center':'latest_price_USD'}>,\n",
       "        <AxesSubplot:title={'center':'old_price_USD'}>],\n",
       "       [<AxesSubplot:title={'center':'ratings'}>,\n",
       "        <AxesSubplot:title={'center':'reviews'}>],\n",
       "       [<AxesSubplot:title={'center':'star_rating'}>, <AxesSubplot:>]],\n",
       "      dtype=object)"
      ]
     },
     "execution_count": 17,
     "metadata": {},
     "output_type": "execute_result"
    },
    {
     "data": {
      "image/png": "[encoded data removed]",
      "text/plain": [
       "<Figure size 1296x720 with 6 Axes>"
      ]
     },
     "metadata": {
      "needs_background": "light"
     },
     "output_type": "display_data"
    }
   ],
   "source": [
    "new_df.hist(['latest_price_USD','old_price_USD','ratings', 'reviews', 'star_rating'], figsize=(18,10))"
   ]
  },
  {
   "cell_type": "code",
   "execution_count": 18,
   "id": "c84e1030",
   "metadata": {},
   "outputs": [
    {
     "data": {
      "text/plain": [
       "array([[<AxesSubplot:title={'center':'ratings'}>,\n",
       "        <AxesSubplot:title={'center':'reviews'}>],\n",
       "       [<AxesSubplot:title={'center':'star_rating'}>, <AxesSubplot:>]],\n",
       "      dtype=object)"
      ]
     },
     "execution_count": 18,
     "metadata": {},
     "output_type": "execute_result"
    },
    {
     "data": {
      "image/png": "[encoded data removed]",
      "text/plain": [
       "<Figure size 1296x720 with 4 Axes>"
      ]
     },
     "metadata": {
      "needs_background": "light"
     },
     "output_type": "display_data"
    }
   ],
   "source": [
    "new_df.hist(['ratings', 'reviews', 'star_rating'], figsize=(18,10))"
   ]
  },
  {
   "cell_type": "markdown",
   "id": "ad50d014",
   "metadata": {},
   "source": [
    "# Feature Selection"
   ]
  },
  {
   "cell_type": "markdown",
   "id": "54b7f67a",
   "metadata": {},
   "source": [
    "## Relationship exploration: Continuous Vs Continuous -- Scatter Charts"
   ]
  },
  {
   "cell_type": "code",
   "execution_count": 19,
   "id": "2dc4dc54",
   "metadata": {
    "scrolled": false
   },
   "outputs": [
    {
     "data": {
      "image/png": "[encoded data removed]",
      "text/plain": [
       "<Figure size 720x360 with 1 Axes>"
      ]
     },
     "metadata": {
      "needs_background": "light"
     },
     "output_type": "display_data"
    },
    {
     "data": {
      "image/png": "[encoded data removed]",
      "text/plain": [
       "<Figure size 720x360 with 1 Axes>"
      ]
     },
     "metadata": {
      "needs_background": "light"
     },
     "output_type": "display_data"
    },
    {
     "data": {
      "image/png": "[encoded data removed]",
      "text/plain": [
       "<Figure size 720x360 with 1 Axes>"
      ]
     },
     "metadata": {
      "needs_background": "light"
     },
     "output_type": "display_data"
    },
    {
     "data": {
      "image/png": "[encoded data removed]",
      "text/plain": [
       "<Figure size 720x360 with 1 Axes>"
      ]
     },
     "metadata": {
      "needs_background": "light"
     },
     "output_type": "display_data"
    },
    {
     "data": {
      "image/png": "[encoded data removed]",
      "text/plain": [
       "<Figure size 720x360 with 1 Axes>"
      ]
     },
     "metadata": {
      "needs_background": "light"
     },
     "output_type": "display_data"
    },
    {
     "data": {
      "image/png": "[encoded data removed]",
      "text/plain": [
       "<Figure size 720x360 with 1 Axes>"
      ]
     },
     "metadata": {
      "needs_background": "light"
     },
     "output_type": "display_data"
    },
    {
     "data": {
      "image/png": "[encoded data removed]",
      "text/plain": [
       "<Figure size 720x360 with 1 Axes>"
      ]
     },
     "metadata": {
      "needs_background": "light"
     },
     "output_type": "display_data"
    },
    {
     "data": {
      "image/png": "[encoded data removed]",
      "text/plain": [
       "<Figure size 720x360 with 1 Axes>"
      ]
     },
     "metadata": {
      "needs_background": "light"
     },
     "output_type": "display_data"
    }
   ],
   "source": [
    "ContinuousCols=['ram_', 'ROM_Capacity', 'graphic_card_', 'warranty', \n",
    "                'old_price_USD','ratings', 'reviews', 'star_rating']\n",
    "\n",
    "# Plotting scatter chart for each predictor vs the target variable\n",
    "for predictor in ContinuousCols:\n",
    "    new_df.plot.scatter(x=predictor, y='latest_price_USD', figsize=(10,5), title=predictor+\" VS \"+ 'latest_price_USD')"
   ]
  },
  {
   "cell_type": "markdown",
   "id": "a3189343",
   "metadata": {},
   "source": [
    "## Statistical Feature Selection (Continuous Vs Continuous) using Correlation value"
   ]
  },
  {
   "cell_type": "code",
   "execution_count": 20,
   "id": "115eebf5",
   "metadata": {},
   "outputs": [
    {
     "data": {
      "text/html": [
       "<div>\n",
       "<style scoped>\n",
       "    .dataframe tbody tr th:only-of-type {\n",
       "        vertical-align: middle;\n",
       "    }\n",
       "\n",
       "    .dataframe tbody tr th {\n",
       "        vertical-align: top;\n",
       "    }\n",
       "\n",
       "    .dataframe thead th {\n",
       "        text-align: right;\n",
       "    }\n",
       "</style>\n",
       "<table border=\"1\" class=\"dataframe\">\n",
       "  <thead>\n",
       "    <tr style=\"text-align: right;\">\n",
       "      <th></th>\n",
       "      <th>latest_price_USD</th>\n",
       "      <th>ram_</th>\n",
       "      <th>ROM_Capacity</th>\n",
       "      <th>graphic_card_</th>\n",
       "      <th>warranty</th>\n",
       "      <th>old_price_USD</th>\n",
       "      <th>ratings</th>\n",
       "      <th>reviews</th>\n",
       "      <th>star_rating</th>\n",
       "    </tr>\n",
       "  </thead>\n",
       "  <tbody>\n",
       "    <tr>\n",
       "      <th>latest_price_USD</th>\n",
       "      <td>1.000000</td>\n",
       "      <td>0.450656</td>\n",
       "      <td>0.277795</td>\n",
       "      <td>0.422153</td>\n",
       "      <td>0.146277</td>\n",
       "      <td>0.945842</td>\n",
       "      <td>-0.176254</td>\n",
       "      <td>-0.193521</td>\n",
       "      <td>-0.170834</td>\n",
       "    </tr>\n",
       "    <tr>\n",
       "      <th>ram_</th>\n",
       "      <td>0.450656</td>\n",
       "      <td>1.000000</td>\n",
       "      <td>0.096314</td>\n",
       "      <td>0.276326</td>\n",
       "      <td>0.105582</td>\n",
       "      <td>0.449823</td>\n",
       "      <td>-0.126370</td>\n",
       "      <td>-0.131372</td>\n",
       "      <td>0.000742</td>\n",
       "    </tr>\n",
       "    <tr>\n",
       "      <th>ROM_Capacity</th>\n",
       "      <td>0.277795</td>\n",
       "      <td>0.096314</td>\n",
       "      <td>1.000000</td>\n",
       "      <td>0.207219</td>\n",
       "      <td>-0.007073</td>\n",
       "      <td>0.294753</td>\n",
       "      <td>-0.001839</td>\n",
       "      <td>-0.006105</td>\n",
       "      <td>-0.083116</td>\n",
       "    </tr>\n",
       "    <tr>\n",
       "      <th>graphic_card_</th>\n",
       "      <td>0.422153</td>\n",
       "      <td>0.276326</td>\n",
       "      <td>0.207219</td>\n",
       "      <td>1.000000</td>\n",
       "      <td>0.024570</td>\n",
       "      <td>0.463804</td>\n",
       "      <td>-0.026074</td>\n",
       "      <td>-0.027321</td>\n",
       "      <td>0.019002</td>\n",
       "    </tr>\n",
       "    <tr>\n",
       "      <th>warranty</th>\n",
       "      <td>0.146277</td>\n",
       "      <td>0.105582</td>\n",
       "      <td>-0.007073</td>\n",
       "      <td>0.024570</td>\n",
       "      <td>1.000000</td>\n",
       "      <td>0.174336</td>\n",
       "      <td>0.047009</td>\n",
       "      <td>0.037439</td>\n",
       "      <td>0.097127</td>\n",
       "    </tr>\n",
       "    <tr>\n",
       "      <th>old_price_USD</th>\n",
       "      <td>0.945842</td>\n",
       "      <td>0.449823</td>\n",
       "      <td>0.294753</td>\n",
       "      <td>0.463804</td>\n",
       "      <td>0.174336</td>\n",
       "      <td>1.000000</td>\n",
       "      <td>-0.193624</td>\n",
       "      <td>-0.206717</td>\n",
       "      <td>-0.165689</td>\n",
       "    </tr>\n",
       "    <tr>\n",
       "      <th>ratings</th>\n",
       "      <td>-0.176254</td>\n",
       "      <td>-0.126370</td>\n",
       "      <td>-0.001839</td>\n",
       "      <td>-0.026074</td>\n",
       "      <td>0.047009</td>\n",
       "      <td>-0.193624</td>\n",
       "      <td>1.000000</td>\n",
       "      <td>0.984459</td>\n",
       "      <td>0.214835</td>\n",
       "    </tr>\n",
       "    <tr>\n",
       "      <th>reviews</th>\n",
       "      <td>-0.193521</td>\n",
       "      <td>-0.131372</td>\n",
       "      <td>-0.006105</td>\n",
       "      <td>-0.027321</td>\n",
       "      <td>0.037439</td>\n",
       "      <td>-0.206717</td>\n",
       "      <td>0.984459</td>\n",
       "      <td>1.000000</td>\n",
       "      <td>0.217568</td>\n",
       "    </tr>\n",
       "    <tr>\n",
       "      <th>star_rating</th>\n",
       "      <td>-0.170834</td>\n",
       "      <td>0.000742</td>\n",
       "      <td>-0.083116</td>\n",
       "      <td>0.019002</td>\n",
       "      <td>0.097127</td>\n",
       "      <td>-0.165689</td>\n",
       "      <td>0.214835</td>\n",
       "      <td>0.217568</td>\n",
       "      <td>1.000000</td>\n",
       "    </tr>\n",
       "  </tbody>\n",
       "</table>\n",
       "</div>"
      ],
      "text/plain": [
       "                  latest_price_USD      ram_  ROM_Capacity  graphic_card_  \\\n",
       "latest_price_USD          1.000000  0.450656      0.277795       0.422153   \n",
       "ram_                      0.450656  1.000000      0.096314       0.276326   \n",
       "ROM_Capacity              0.277795  0.096314      1.000000       0.207219   \n",
       "graphic_card_             0.422153  0.276326      0.207219       1.000000   \n",
       "warranty                  0.146277  0.105582     -0.007073       0.024570   \n",
       "old_price_USD             0.945842  0.449823      0.294753       0.463804   \n",
       "ratings                  -0.176254 -0.126370     -0.001839      -0.026074   \n",
       "reviews                  -0.193521 -0.131372     -0.006105      -0.027321   \n",
       "star_rating              -0.170834  0.000742     -0.083116       0.019002   \n",
       "\n",
       "                  warranty  old_price_USD   ratings   reviews  star_rating  \n",
       "latest_price_USD  0.146277       0.945842 -0.176254 -0.193521    -0.170834  \n",
       "ram_              0.105582       0.449823 -0.126370 -0.131372     0.000742  \n",
       "ROM_Capacity     -0.007073       0.294753 -0.001839 -0.006105    -0.083116  \n",
       "graphic_card_     0.024570       0.463804 -0.026074 -0.027321     0.019002  \n",
       "warranty          1.000000       0.174336  0.047009  0.037439     0.097127  \n",
       "old_price_USD     0.174336       1.000000 -0.193624 -0.206717    -0.165689  \n",
       "ratings           0.047009      -0.193624  1.000000  0.984459     0.214835  \n",
       "reviews           0.037439      -0.206717  0.984459  1.000000     0.217568  \n",
       "star_rating       0.097127      -0.165689  0.214835  0.217568     1.000000  "
      ]
     },
     "execution_count": 20,
     "metadata": {},
     "output_type": "execute_result"
    }
   ],
   "source": [
    "# Calculating correlation matrix\n",
    "ContinuousCols1=['latest_price_USD', 'ram_', 'ROM_Capacity', 'graphic_card_', 'warranty', \n",
    "                'old_price_USD','ratings', 'reviews', 'star_rating']\n",
    "\n",
    "# Creating the correlation matrix\n",
    "CorrelationData=new_df[ContinuousCols1].corr()\n",
    "CorrelationData"
   ]
  },
  {
   "cell_type": "code",
   "execution_count": 21,
   "id": "3fbfef4e",
   "metadata": {},
   "outputs": [
    {
     "data": {
      "text/plain": [
       "latest_price_USD    1.000000\n",
       "ram_                0.450656\n",
       "ROM_Capacity        0.277795\n",
       "graphic_card_       0.422153\n",
       "old_price_USD       0.945842\n",
       "Name: latest_price_USD, dtype: float64"
      ]
     },
     "execution_count": 21,
     "metadata": {},
     "output_type": "execute_result"
    }
   ],
   "source": [
    "# Filtering only those columns where absolute correlation > 0.5 with Target Variable\n",
    "# reduce the 0.5 threshold if no variable is selected\n",
    "CorrelationData['latest_price_USD'][abs(CorrelationData['latest_price_USD']) > 0.2 ]"
   ]
  },
  {
   "cell_type": "markdown",
   "id": "cb470454",
   "metadata": {},
   "source": [
    "## Relationship exploration: Categorical Vs Continuous -- Box Plots"
   ]
  },
  {
   "cell_type": "code",
   "execution_count": 22,
   "id": "b0958ab6",
   "metadata": {},
   "outputs": [
    {
     "data": {
      "image/png": "[encoded data removed]",
      "text/plain": [
       "<Figure size 1296x360 with 4 Axes>"
      ]
     },
     "metadata": {
      "needs_background": "light"
     },
     "output_type": "display_data"
    }
   ],
   "source": [
    "# Box plots for Categorical Target Variable \"price\" and continuous predictors\n",
    "CategoricalColsList=['brand', 'processor_brand', 'processor_name', 'processor_gnrtn']\n",
    "\n",
    "import matplotlib.pyplot as plt\n",
    "fig, PlotCanvas=plt.subplots(nrows=1, ncols=len(CategoricalColsList), figsize=(18,5))\n",
    "\n",
    "# Creating box plots for each continuous predictor against the Target Variable \"price\"\n",
    "for PredictorCol , i in zip(CategoricalColsList, range(len(CategoricalColsList))):\n",
    "    new_df.boxplot(column='latest_price_USD', by=PredictorCol, figsize=(5,5), vert=True, ax=PlotCanvas[i])"
   ]
  },
  {
   "cell_type": "code",
   "execution_count": 23,
   "id": "bc4b35b1",
   "metadata": {},
   "outputs": [
    {
     "data": {
      "image/png": "[encoded data removed]",
      "text/plain": [
       "<Figure size 1296x360 with 4 Axes>"
      ]
     },
     "metadata": {
      "needs_background": "light"
     },
     "output_type": "display_data"
    }
   ],
   "source": [
    "# Box plots for Categorical Target Variable \"price\" and continuous predictors\n",
    "CategoricalColsList=['ram_type', 'Rom_is_SSD', 'os', 'os_bit']\n",
    "\n",
    "import matplotlib.pyplot as plt\n",
    "fig, PlotCanvas=plt.subplots(nrows=1, ncols=len(CategoricalColsList), figsize=(18,5))\n",
    "\n",
    "# Creating box plots for each continuous predictor against the Target Variable \"price\"\n",
    "for PredictorCol , i in zip(CategoricalColsList, range(len(CategoricalColsList))):\n",
    "    new_df.boxplot(column='latest_price_USD', by=PredictorCol, figsize=(5,5), vert=True, ax=PlotCanvas[i])"
   ]
  },
  {
   "cell_type": "code",
   "execution_count": 24,
   "id": "ad7bdba7",
   "metadata": {},
   "outputs": [
    {
     "data": {
      "image/png": "[encoded data removed]",
      "text/plain": [
       "<Figure size 1296x360 with 4 Axes>"
      ]
     },
     "metadata": {
      "needs_background": "light"
     },
     "output_type": "display_data"
    }
   ],
   "source": [
    "# Box plots for Categorical Target Variable \"price\" and continuous predictors\n",
    "CategoricalColsList=['External_graphic_card', 'weight','Touchscreen', 'msoffice']\n",
    "\n",
    "import matplotlib.pyplot as plt\n",
    "fig, PlotCanvas=plt.subplots(nrows=1, ncols=len(CategoricalColsList), figsize=(18,5))\n",
    "\n",
    "# Creating box plots for each continuous predictor against the Target Variable \"price\"\n",
    "for PredictorCol , i in zip(CategoricalColsList, range(len(CategoricalColsList))):\n",
    "    new_df.boxplot(column='latest_price_USD', by=PredictorCol, figsize=(5,5), vert=True, ax=PlotCanvas[i])"
   ]
  },
  {
   "cell_type": "markdown",
   "id": "c020d416",
   "metadata": {},
   "source": [
    "## Statistical Feature Selection (Categorical Vs Continuous) using ANOVA test"
   ]
  },
  {
   "cell_type": "code",
   "execution_count": 25,
   "id": "1130fb33",
   "metadata": {},
   "outputs": [],
   "source": [
    "# Defining a function to find the statistical relationship with all the categorical variables\n",
    "def FunctionAnova(inpData, TargetVariable, CategoricalPredictorList):\n",
    "    from scipy.stats import f_oneway\n",
    "\n",
    "    # Creating an empty list of final selected predictors\n",
    "    SelectedPredictors=[]\n",
    "    \n",
    "    print('##### ANOVA Results ##### \\n')\n",
    "    for predictor in CategoricalPredictorList:\n",
    "        CategoryGroupLists=inpData.groupby(predictor)[TargetVariable].apply(list)\n",
    "        AnovaResults = f_oneway(*CategoryGroupLists)\n",
    "        \n",
    "        # If the ANOVA P-Value is <0.05, that means we reject H0\n",
    "        if (AnovaResults[1] < 0.05):\n",
    "            print(predictor, 'is correlated with', TargetVariable, '| P-Value:', AnovaResults[1])\n",
    "            SelectedPredictors.append(predictor)\n",
    "        else:\n",
    "            print(predictor, 'is NOT correlated with', TargetVariable, '| P-Value:', AnovaResults[1])\n",
    "    \n",
    "    return(SelectedPredictors)"
   ]
  },
  {
   "cell_type": "code",
   "execution_count": 26,
   "id": "6457287c",
   "metadata": {},
   "outputs": [
    {
     "name": "stdout",
     "output_type": "stream",
     "text": [
      "##### ANOVA Results ##### \n",
      "\n",
      "brand is correlated with latest_price_USD | P-Value: 3.864118621508208e-17\n",
      "processor_brand is correlated with latest_price_USD | P-Value: 3.079001720070079e-14\n",
      "processor_name is correlated with latest_price_USD | P-Value: 4.620227618410402e-153\n",
      "processor_gnrtn is correlated with latest_price_USD | P-Value: 0.015882304049994023\n",
      "ram_type is correlated with latest_price_USD | P-Value: 2.7179149746347075e-13\n",
      "Rom_is_SSD is correlated with latest_price_USD | P-Value: 1.6418718294271964e-18\n",
      "os is correlated with latest_price_USD | P-Value: 2.9606300737909206e-18\n",
      "os_bit is correlated with latest_price_USD | P-Value: 0.01126220195720438\n",
      "External_graphic_card is correlated with latest_price_USD | P-Value: 6.346908349149227e-26\n",
      "weight is correlated with latest_price_USD | P-Value: 3.3721904713186287e-15\n",
      "Touchscreen is correlated with latest_price_USD | P-Value: 3.297605158306453e-15\n",
      "msoffice is NOT correlated with latest_price_USD | P-Value: 0.5853812246255314\n"
     ]
    },
    {
     "data": {
      "text/plain": [
       "['brand',\n",
       " 'processor_brand',\n",
       " 'processor_name',\n",
       " 'processor_gnrtn',\n",
       " 'ram_type',\n",
       " 'Rom_is_SSD',\n",
       " 'os',\n",
       " 'os_bit',\n",
       " 'External_graphic_card',\n",
       " 'weight',\n",
       " 'Touchscreen']"
      ]
     },
     "execution_count": 26,
     "metadata": {},
     "output_type": "execute_result"
    }
   ],
   "source": [
    "# Calling the function to check which categorical variables are correlated with target\n",
    "CategoricalPredictorList=['brand', 'processor_brand', 'processor_name', 'processor_gnrtn',\n",
    "                          'ram_type', 'Rom_is_SSD', 'os', 'os_bit', 'External_graphic_card', \n",
    "                          'weight','Touchscreen', 'msoffice']\n",
    "\n",
    "FunctionAnova(inpData=new_df, \n",
    "              TargetVariable='latest_price_USD', \n",
    "              CategoricalPredictorList=CategoricalPredictorList)"
   ]
  },
  {
   "cell_type": "markdown",
   "id": "a15fa048",
   "metadata": {},
   "source": [
    "## Selecting final predictors for Machine Learning\n",
    "Based on the above tests, selecting the final columns for machine learning"
   ]
  },
  {
   "cell_type": "code",
   "execution_count": 27,
   "id": "f2212955",
   "metadata": {
    "scrolled": true
   },
   "outputs": [
    {
     "data": {
      "text/html": [
       "<div>\n",
       "<style scoped>\n",
       "    .dataframe tbody tr th:only-of-type {\n",
       "        vertical-align: middle;\n",
       "    }\n",
       "\n",
       "    .dataframe tbody tr th {\n",
       "        vertical-align: top;\n",
       "    }\n",
       "\n",
       "    .dataframe thead th {\n",
       "        text-align: right;\n",
       "    }\n",
       "</style>\n",
       "<table border=\"1\" class=\"dataframe\">\n",
       "  <thead>\n",
       "    <tr style=\"text-align: right;\">\n",
       "      <th></th>\n",
       "      <th>brand</th>\n",
       "      <th>processor_brand</th>\n",
       "      <th>processor_name</th>\n",
       "      <th>processor_gnrtn</th>\n",
       "      <th>ram_type</th>\n",
       "      <th>Rom_is_SSD</th>\n",
       "      <th>os</th>\n",
       "      <th>External_graphic_card</th>\n",
       "      <th>weight</th>\n",
       "      <th>Touchscreen</th>\n",
       "      <th>msoffice</th>\n",
       "      <th>ram_</th>\n",
       "      <th>ROM_Capacity</th>\n",
       "      <th>graphic_card_</th>\n",
       "      <th>old_price_USD</th>\n",
       "    </tr>\n",
       "  </thead>\n",
       "  <tbody>\n",
       "    <tr>\n",
       "      <th>0</th>\n",
       "      <td>Lenovo</td>\n",
       "      <td>AMD</td>\n",
       "      <td>Low performance</td>\n",
       "      <td>10th</td>\n",
       "      <td>DDR4</td>\n",
       "      <td>0</td>\n",
       "      <td>Windows</td>\n",
       "      <td>0</td>\n",
       "      <td>ThinNlight</td>\n",
       "      <td>No</td>\n",
       "      <td>No</td>\n",
       "      <td>4</td>\n",
       "      <td>1024</td>\n",
       "      <td>0</td>\n",
       "      <td>426.270</td>\n",
       "    </tr>\n",
       "    <tr>\n",
       "      <th>1</th>\n",
       "      <td>Lenovo</td>\n",
       "      <td>AMD</td>\n",
       "      <td>Low performance</td>\n",
       "      <td>10th</td>\n",
       "      <td>DDR4</td>\n",
       "      <td>0</td>\n",
       "      <td>Windows</td>\n",
       "      <td>0</td>\n",
       "      <td>Casual</td>\n",
       "      <td>No</td>\n",
       "      <td>No</td>\n",
       "      <td>4</td>\n",
       "      <td>512</td>\n",
       "      <td>0</td>\n",
       "      <td>277.225</td>\n",
       "    </tr>\n",
       "    <tr>\n",
       "      <th>2</th>\n",
       "      <td>Avita</td>\n",
       "      <td>AMD</td>\n",
       "      <td>Low performance</td>\n",
       "      <td>10th</td>\n",
       "      <td>DDR4</td>\n",
       "      <td>1</td>\n",
       "      <td>Windows</td>\n",
       "      <td>0</td>\n",
       "      <td>ThinNlight</td>\n",
       "      <td>No</td>\n",
       "      <td>No</td>\n",
       "      <td>4</td>\n",
       "      <td>128</td>\n",
       "      <td>0</td>\n",
       "      <td>363.870</td>\n",
       "    </tr>\n",
       "    <tr>\n",
       "      <th>3</th>\n",
       "      <td>Avita</td>\n",
       "      <td>AMD</td>\n",
       "      <td>Low performance</td>\n",
       "      <td>10th</td>\n",
       "      <td>DDR4</td>\n",
       "      <td>1</td>\n",
       "      <td>Windows</td>\n",
       "      <td>0</td>\n",
       "      <td>ThinNlight</td>\n",
       "      <td>No</td>\n",
       "      <td>No</td>\n",
       "      <td>4</td>\n",
       "      <td>128</td>\n",
       "      <td>0</td>\n",
       "      <td>363.870</td>\n",
       "    </tr>\n",
       "    <tr>\n",
       "      <th>4</th>\n",
       "      <td>Avita</td>\n",
       "      <td>AMD</td>\n",
       "      <td>Low performance</td>\n",
       "      <td>10th</td>\n",
       "      <td>DDR4</td>\n",
       "      <td>1</td>\n",
       "      <td>Windows</td>\n",
       "      <td>0</td>\n",
       "      <td>ThinNlight</td>\n",
       "      <td>No</td>\n",
       "      <td>No</td>\n",
       "      <td>4</td>\n",
       "      <td>256</td>\n",
       "      <td>0</td>\n",
       "      <td>435.370</td>\n",
       "    </tr>\n",
       "  </tbody>\n",
       "</table>\n",
       "</div>"
      ],
      "text/plain": [
       "    brand processor_brand   processor_name processor_gnrtn ram_type  \\\n",
       "0  Lenovo             AMD  Low performance            10th     DDR4   \n",
       "1  Lenovo             AMD  Low performance            10th     DDR4   \n",
       "2   Avita             AMD  Low performance            10th     DDR4   \n",
       "3   Avita             AMD  Low performance            10th     DDR4   \n",
       "4   Avita             AMD  Low performance            10th     DDR4   \n",
       "\n",
       "   Rom_is_SSD       os  External_graphic_card      weight Touchscreen  \\\n",
       "0           0  Windows                      0  ThinNlight          No   \n",
       "1           0  Windows                      0      Casual          No   \n",
       "2           1  Windows                      0  ThinNlight          No   \n",
       "3           1  Windows                      0  ThinNlight          No   \n",
       "4           1  Windows                      0  ThinNlight          No   \n",
       "\n",
       "  msoffice  ram_  ROM_Capacity  graphic_card_  old_price_USD  \n",
       "0       No     4          1024              0        426.270  \n",
       "1       No     4           512              0        277.225  \n",
       "2       No     4           128              0        363.870  \n",
       "3       No     4           128              0        363.870  \n",
       "4       No     4           256              0        435.370  "
      ]
     },
     "execution_count": 27,
     "metadata": {},
     "output_type": "execute_result"
    }
   ],
   "source": [
    "SelectedColumns=['brand', 'processor_brand', 'processor_name', 'processor_gnrtn', 'ram_type', 'Rom_is_SSD', \n",
    "                 'os', 'External_graphic_card', 'weight', 'Touchscreen', 'msoffice', 'ram_', 'ROM_Capacity', \n",
    "                 'graphic_card_', 'old_price_USD']\n",
    "\n",
    "# Selecting final columns\n",
    "DataForML=new_df[SelectedColumns]\n",
    "DataForML.head()"
   ]
  },
  {
   "cell_type": "code",
   "execution_count": 28,
   "id": "5f642adc",
   "metadata": {},
   "outputs": [],
   "source": [
    "# Saving this final data for reference during deployment\n",
    "DataForML.to_pickle('DataForML.pkl')"
   ]
  },
  {
   "cell_type": "markdown",
   "id": "1f05415e",
   "metadata": {},
   "source": [
    "## Data Pre-processing for Machine Learning\n",
    "List of steps performed on predictor variables before data can be used for machine learning\n",
    "\n",
    "Converting each Ordinal Categorical columns to numeric\n",
    "Converting Binary nominal Categorical columns to numeric using 1/0 mapping\n",
    "Converting all other nominal categorical columns to numeric using pd.get_dummies()\n",
    "Data Transformation (Optional): Standardization/Normalization/log/sqrt. Important if you are using distance based algorithms like KNN, or Neural Networks"
   ]
  },
  {
   "cell_type": "markdown",
   "id": "38fa3cdf",
   "metadata": {},
   "source": [
    "### Converting the binary nominal variable to numeric using 1/0 mapping"
   ]
  },
  {
   "cell_type": "code",
   "execution_count": 29,
   "id": "76f39336",
   "metadata": {},
   "outputs": [
    {
     "data": {
      "text/plain": [
       "brand                     20\n",
       "processor_brand            5\n",
       "processor_name             3\n",
       "processor_gnrtn            6\n",
       "ram_type                   6\n",
       "Rom_is_SSD                 2\n",
       "os                         3\n",
       "External_graphic_card      2\n",
       "weight                     3\n",
       "Touchscreen                2\n",
       "msoffice                   2\n",
       "ram_                       4\n",
       "ROM_Capacity               6\n",
       "graphic_card_              5\n",
       "old_price_USD            526\n",
       "dtype: int64"
      ]
     },
     "execution_count": 29,
     "metadata": {},
     "output_type": "execute_result"
    }
   ],
   "source": [
    "DataForML.nunique()"
   ]
  },
  {
   "cell_type": "code",
   "execution_count": 30,
   "id": "85c9202a",
   "metadata": {},
   "outputs": [
    {
     "name": "stderr",
     "output_type": "stream",
     "text": [
      "D:\\rs7am\\Anaconda\\lib\\site-packages\\pandas\\core\\series.py:4509: SettingWithCopyWarning: \n",
      "A value is trying to be set on a copy of a slice from a DataFrame\n",
      "\n",
      "See the caveats in the documentation: https://pandas.pydata.org/pandas-docs/stable/user_guide/indexing.html#returning-a-view-versus-a-copy\n",
      "  return super().replace(\n"
     ]
    }
   ],
   "source": [
    "# Converting binary nominal values to numeric \n",
    "DataForML['Touchscreen'].replace({'No':0, 'Yes':1}, inplace=True)\n",
    "DataForML['msoffice'].replace({'No':0, 'Yes':1}, inplace=True)"
   ]
  },
  {
   "cell_type": "code",
   "execution_count": 31,
   "id": "adcc30ba",
   "metadata": {},
   "outputs": [
    {
     "data": {
      "text/html": [
       "<div>\n",
       "<style scoped>\n",
       "    .dataframe tbody tr th:only-of-type {\n",
       "        vertical-align: middle;\n",
       "    }\n",
       "\n",
       "    .dataframe tbody tr th {\n",
       "        vertical-align: top;\n",
       "    }\n",
       "\n",
       "    .dataframe thead th {\n",
       "        text-align: right;\n",
       "    }\n",
       "</style>\n",
       "<table border=\"1\" class=\"dataframe\">\n",
       "  <thead>\n",
       "    <tr style=\"text-align: right;\">\n",
       "      <th></th>\n",
       "      <th>brand</th>\n",
       "      <th>processor_brand</th>\n",
       "      <th>processor_name</th>\n",
       "      <th>processor_gnrtn</th>\n",
       "      <th>ram_type</th>\n",
       "      <th>Rom_is_SSD</th>\n",
       "      <th>os</th>\n",
       "      <th>External_graphic_card</th>\n",
       "      <th>weight</th>\n",
       "      <th>Touchscreen</th>\n",
       "      <th>msoffice</th>\n",
       "      <th>ram_</th>\n",
       "      <th>ROM_Capacity</th>\n",
       "      <th>graphic_card_</th>\n",
       "      <th>old_price_USD</th>\n",
       "    </tr>\n",
       "  </thead>\n",
       "  <tbody>\n",
       "    <tr>\n",
       "      <th>0</th>\n",
       "      <td>Lenovo</td>\n",
       "      <td>AMD</td>\n",
       "      <td>Low performance</td>\n",
       "      <td>10th</td>\n",
       "      <td>DDR4</td>\n",
       "      <td>0</td>\n",
       "      <td>Windows</td>\n",
       "      <td>0</td>\n",
       "      <td>ThinNlight</td>\n",
       "      <td>0</td>\n",
       "      <td>0</td>\n",
       "      <td>4</td>\n",
       "      <td>1024</td>\n",
       "      <td>0</td>\n",
       "      <td>426.270</td>\n",
       "    </tr>\n",
       "    <tr>\n",
       "      <th>1</th>\n",
       "      <td>Lenovo</td>\n",
       "      <td>AMD</td>\n",
       "      <td>Low performance</td>\n",
       "      <td>10th</td>\n",
       "      <td>DDR4</td>\n",
       "      <td>0</td>\n",
       "      <td>Windows</td>\n",
       "      <td>0</td>\n",
       "      <td>Casual</td>\n",
       "      <td>0</td>\n",
       "      <td>0</td>\n",
       "      <td>4</td>\n",
       "      <td>512</td>\n",
       "      <td>0</td>\n",
       "      <td>277.225</td>\n",
       "    </tr>\n",
       "    <tr>\n",
       "      <th>2</th>\n",
       "      <td>Avita</td>\n",
       "      <td>AMD</td>\n",
       "      <td>Low performance</td>\n",
       "      <td>10th</td>\n",
       "      <td>DDR4</td>\n",
       "      <td>1</td>\n",
       "      <td>Windows</td>\n",
       "      <td>0</td>\n",
       "      <td>ThinNlight</td>\n",
       "      <td>0</td>\n",
       "      <td>0</td>\n",
       "      <td>4</td>\n",
       "      <td>128</td>\n",
       "      <td>0</td>\n",
       "      <td>363.870</td>\n",
       "    </tr>\n",
       "    <tr>\n",
       "      <th>3</th>\n",
       "      <td>Avita</td>\n",
       "      <td>AMD</td>\n",
       "      <td>Low performance</td>\n",
       "      <td>10th</td>\n",
       "      <td>DDR4</td>\n",
       "      <td>1</td>\n",
       "      <td>Windows</td>\n",
       "      <td>0</td>\n",
       "      <td>ThinNlight</td>\n",
       "      <td>0</td>\n",
       "      <td>0</td>\n",
       "      <td>4</td>\n",
       "      <td>128</td>\n",
       "      <td>0</td>\n",
       "      <td>363.870</td>\n",
       "    </tr>\n",
       "    <tr>\n",
       "      <th>4</th>\n",
       "      <td>Avita</td>\n",
       "      <td>AMD</td>\n",
       "      <td>Low performance</td>\n",
       "      <td>10th</td>\n",
       "      <td>DDR4</td>\n",
       "      <td>1</td>\n",
       "      <td>Windows</td>\n",
       "      <td>0</td>\n",
       "      <td>ThinNlight</td>\n",
       "      <td>0</td>\n",
       "      <td>0</td>\n",
       "      <td>4</td>\n",
       "      <td>256</td>\n",
       "      <td>0</td>\n",
       "      <td>435.370</td>\n",
       "    </tr>\n",
       "    <tr>\n",
       "      <th>...</th>\n",
       "      <td>...</td>\n",
       "      <td>...</td>\n",
       "      <td>...</td>\n",
       "      <td>...</td>\n",
       "      <td>...</td>\n",
       "      <td>...</td>\n",
       "      <td>...</td>\n",
       "      <td>...</td>\n",
       "      <td>...</td>\n",
       "      <td>...</td>\n",
       "      <td>...</td>\n",
       "      <td>...</td>\n",
       "      <td>...</td>\n",
       "      <td>...</td>\n",
       "      <td>...</td>\n",
       "    </tr>\n",
       "    <tr>\n",
       "      <th>886</th>\n",
       "      <td>ASUS</td>\n",
       "      <td>AMD</td>\n",
       "      <td>High performance</td>\n",
       "      <td>11th</td>\n",
       "      <td>DDR4</td>\n",
       "      <td>1</td>\n",
       "      <td>Windows</td>\n",
       "      <td>0</td>\n",
       "      <td>Casual</td>\n",
       "      <td>0</td>\n",
       "      <td>0</td>\n",
       "      <td>4</td>\n",
       "      <td>1024</td>\n",
       "      <td>0</td>\n",
       "      <td>2118.870</td>\n",
       "    </tr>\n",
       "    <tr>\n",
       "      <th>887</th>\n",
       "      <td>ASUS</td>\n",
       "      <td>AMD</td>\n",
       "      <td>High performance</td>\n",
       "      <td>11th</td>\n",
       "      <td>DDR4</td>\n",
       "      <td>1</td>\n",
       "      <td>Windows</td>\n",
       "      <td>1</td>\n",
       "      <td>Casual</td>\n",
       "      <td>0</td>\n",
       "      <td>0</td>\n",
       "      <td>4</td>\n",
       "      <td>1024</td>\n",
       "      <td>4</td>\n",
       "      <td>1949.870</td>\n",
       "    </tr>\n",
       "    <tr>\n",
       "      <th>890</th>\n",
       "      <td>ASUS</td>\n",
       "      <td>AMD</td>\n",
       "      <td>High performance</td>\n",
       "      <td>11th</td>\n",
       "      <td>DDR4</td>\n",
       "      <td>1</td>\n",
       "      <td>Windows</td>\n",
       "      <td>0</td>\n",
       "      <td>Casual</td>\n",
       "      <td>0</td>\n",
       "      <td>0</td>\n",
       "      <td>4</td>\n",
       "      <td>1024</td>\n",
       "      <td>0</td>\n",
       "      <td>2248.870</td>\n",
       "    </tr>\n",
       "    <tr>\n",
       "      <th>894</th>\n",
       "      <td>SAMSUNG</td>\n",
       "      <td>Qualcomm</td>\n",
       "      <td>Low performance</td>\n",
       "      <td>11th</td>\n",
       "      <td>LPDDR4X</td>\n",
       "      <td>0</td>\n",
       "      <td>Windows</td>\n",
       "      <td>0</td>\n",
       "      <td>Casual</td>\n",
       "      <td>0</td>\n",
       "      <td>0</td>\n",
       "      <td>4</td>\n",
       "      <td>512</td>\n",
       "      <td>0</td>\n",
       "      <td>623.870</td>\n",
       "    </tr>\n",
       "    <tr>\n",
       "      <th>895</th>\n",
       "      <td>Lenovo</td>\n",
       "      <td>AMD</td>\n",
       "      <td>Medium performance</td>\n",
       "      <td>10th</td>\n",
       "      <td>DDR4</td>\n",
       "      <td>1</td>\n",
       "      <td>DOS</td>\n",
       "      <td>0</td>\n",
       "      <td>ThinNlight</td>\n",
       "      <td>0</td>\n",
       "      <td>0</td>\n",
       "      <td>8</td>\n",
       "      <td>512</td>\n",
       "      <td>0</td>\n",
       "      <td>1019.200</td>\n",
       "    </tr>\n",
       "  </tbody>\n",
       "</table>\n",
       "<p>800 rows × 15 columns</p>\n",
       "</div>"
      ],
      "text/plain": [
       "       brand processor_brand      processor_name processor_gnrtn ram_type  \\\n",
       "0     Lenovo             AMD     Low performance            10th     DDR4   \n",
       "1     Lenovo             AMD     Low performance            10th     DDR4   \n",
       "2      Avita             AMD     Low performance            10th     DDR4   \n",
       "3      Avita             AMD     Low performance            10th     DDR4   \n",
       "4      Avita             AMD     Low performance            10th     DDR4   \n",
       "..       ...             ...                 ...             ...      ...   \n",
       "886     ASUS             AMD    High performance            11th     DDR4   \n",
       "887     ASUS             AMD    High performance            11th     DDR4   \n",
       "890     ASUS             AMD    High performance            11th     DDR4   \n",
       "894  SAMSUNG        Qualcomm     Low performance            11th  LPDDR4X   \n",
       "895   Lenovo             AMD  Medium performance            10th     DDR4   \n",
       "\n",
       "     Rom_is_SSD       os  External_graphic_card      weight  Touchscreen  \\\n",
       "0             0  Windows                      0  ThinNlight            0   \n",
       "1             0  Windows                      0      Casual            0   \n",
       "2             1  Windows                      0  ThinNlight            0   \n",
       "3             1  Windows                      0  ThinNlight            0   \n",
       "4             1  Windows                      0  ThinNlight            0   \n",
       "..          ...      ...                    ...         ...          ...   \n",
       "886           1  Windows                      0      Casual            0   \n",
       "887           1  Windows                      1      Casual            0   \n",
       "890           1  Windows                      0      Casual            0   \n",
       "894           0  Windows                      0      Casual            0   \n",
       "895           1      DOS                      0  ThinNlight            0   \n",
       "\n",
       "     msoffice  ram_  ROM_Capacity  graphic_card_  old_price_USD  \n",
       "0           0     4          1024              0        426.270  \n",
       "1           0     4           512              0        277.225  \n",
       "2           0     4           128              0        363.870  \n",
       "3           0     4           128              0        363.870  \n",
       "4           0     4           256              0        435.370  \n",
       "..        ...   ...           ...            ...            ...  \n",
       "886         0     4          1024              0       2118.870  \n",
       "887         0     4          1024              4       1949.870  \n",
       "890         0     4          1024              0       2248.870  \n",
       "894         0     4           512              0        623.870  \n",
       "895         0     8           512              0       1019.200  \n",
       "\n",
       "[800 rows x 15 columns]"
      ]
     },
     "execution_count": 31,
     "metadata": {},
     "output_type": "execute_result"
    }
   ],
   "source": [
    "DataForML"
   ]
  },
  {
   "cell_type": "markdown",
   "id": "f3225a7d",
   "metadata": {},
   "source": [
    "### Converting the nominal variable to numeric using get_dummies()"
   ]
  },
  {
   "cell_type": "code",
   "execution_count": 32,
   "id": "403217af",
   "metadata": {},
   "outputs": [
    {
     "data": {
      "text/html": [
       "<div>\n",
       "<style scoped>\n",
       "    .dataframe tbody tr th:only-of-type {\n",
       "        vertical-align: middle;\n",
       "    }\n",
       "\n",
       "    .dataframe tbody tr th {\n",
       "        vertical-align: top;\n",
       "    }\n",
       "\n",
       "    .dataframe thead th {\n",
       "        text-align: right;\n",
       "    }\n",
       "</style>\n",
       "<table border=\"1\" class=\"dataframe\">\n",
       "  <thead>\n",
       "    <tr style=\"text-align: right;\">\n",
       "      <th></th>\n",
       "      <th>Rom_is_SSD</th>\n",
       "      <th>External_graphic_card</th>\n",
       "      <th>Touchscreen</th>\n",
       "      <th>msoffice</th>\n",
       "      <th>ram_</th>\n",
       "      <th>ROM_Capacity</th>\n",
       "      <th>graphic_card_</th>\n",
       "      <th>old_price_USD</th>\n",
       "      <th>brand_APPLE</th>\n",
       "      <th>brand_ASUS</th>\n",
       "      <th>...</th>\n",
       "      <th>ram_type_LPDDR3</th>\n",
       "      <th>ram_type_LPDDR4</th>\n",
       "      <th>ram_type_LPDDR4X</th>\n",
       "      <th>os_DOS</th>\n",
       "      <th>os_Mac</th>\n",
       "      <th>os_Windows</th>\n",
       "      <th>weight_Casual</th>\n",
       "      <th>weight_Gaming</th>\n",
       "      <th>weight_ThinNlight</th>\n",
       "      <th>latest_price_USD</th>\n",
       "    </tr>\n",
       "  </thead>\n",
       "  <tbody>\n",
       "    <tr>\n",
       "      <th>0</th>\n",
       "      <td>0</td>\n",
       "      <td>0</td>\n",
       "      <td>0</td>\n",
       "      <td>0</td>\n",
       "      <td>4</td>\n",
       "      <td>1024</td>\n",
       "      <td>0</td>\n",
       "      <td>426.270</td>\n",
       "      <td>0</td>\n",
       "      <td>0</td>\n",
       "      <td>...</td>\n",
       "      <td>0</td>\n",
       "      <td>0</td>\n",
       "      <td>0</td>\n",
       "      <td>0</td>\n",
       "      <td>0</td>\n",
       "      <td>1</td>\n",
       "      <td>0</td>\n",
       "      <td>0</td>\n",
       "      <td>1</td>\n",
       "      <td>324.87</td>\n",
       "    </tr>\n",
       "    <tr>\n",
       "      <th>1</th>\n",
       "      <td>0</td>\n",
       "      <td>0</td>\n",
       "      <td>0</td>\n",
       "      <td>0</td>\n",
       "      <td>4</td>\n",
       "      <td>512</td>\n",
       "      <td>0</td>\n",
       "      <td>277.225</td>\n",
       "      <td>0</td>\n",
       "      <td>0</td>\n",
       "      <td>...</td>\n",
       "      <td>0</td>\n",
       "      <td>0</td>\n",
       "      <td>0</td>\n",
       "      <td>0</td>\n",
       "      <td>0</td>\n",
       "      <td>1</td>\n",
       "      <td>1</td>\n",
       "      <td>0</td>\n",
       "      <td>0</td>\n",
       "      <td>254.67</td>\n",
       "    </tr>\n",
       "    <tr>\n",
       "      <th>2</th>\n",
       "      <td>1</td>\n",
       "      <td>0</td>\n",
       "      <td>0</td>\n",
       "      <td>0</td>\n",
       "      <td>4</td>\n",
       "      <td>128</td>\n",
       "      <td>0</td>\n",
       "      <td>363.870</td>\n",
       "      <td>0</td>\n",
       "      <td>0</td>\n",
       "      <td>...</td>\n",
       "      <td>0</td>\n",
       "      <td>0</td>\n",
       "      <td>0</td>\n",
       "      <td>0</td>\n",
       "      <td>0</td>\n",
       "      <td>1</td>\n",
       "      <td>0</td>\n",
       "      <td>0</td>\n",
       "      <td>1</td>\n",
       "      <td>259.87</td>\n",
       "    </tr>\n",
       "    <tr>\n",
       "      <th>3</th>\n",
       "      <td>1</td>\n",
       "      <td>0</td>\n",
       "      <td>0</td>\n",
       "      <td>0</td>\n",
       "      <td>4</td>\n",
       "      <td>128</td>\n",
       "      <td>0</td>\n",
       "      <td>363.870</td>\n",
       "      <td>0</td>\n",
       "      <td>0</td>\n",
       "      <td>...</td>\n",
       "      <td>0</td>\n",
       "      <td>0</td>\n",
       "      <td>0</td>\n",
       "      <td>0</td>\n",
       "      <td>0</td>\n",
       "      <td>1</td>\n",
       "      <td>0</td>\n",
       "      <td>0</td>\n",
       "      <td>1</td>\n",
       "      <td>279.37</td>\n",
       "    </tr>\n",
       "    <tr>\n",
       "      <th>4</th>\n",
       "      <td>1</td>\n",
       "      <td>0</td>\n",
       "      <td>0</td>\n",
       "      <td>0</td>\n",
       "      <td>4</td>\n",
       "      <td>256</td>\n",
       "      <td>0</td>\n",
       "      <td>435.370</td>\n",
       "      <td>0</td>\n",
       "      <td>0</td>\n",
       "      <td>...</td>\n",
       "      <td>0</td>\n",
       "      <td>0</td>\n",
       "      <td>0</td>\n",
       "      <td>0</td>\n",
       "      <td>0</td>\n",
       "      <td>1</td>\n",
       "      <td>0</td>\n",
       "      <td>0</td>\n",
       "      <td>1</td>\n",
       "      <td>324.87</td>\n",
       "    </tr>\n",
       "  </tbody>\n",
       "</table>\n",
       "<p>5 rows × 55 columns</p>\n",
       "</div>"
      ],
      "text/plain": [
       "   Rom_is_SSD  External_graphic_card  Touchscreen  msoffice  ram_  \\\n",
       "0           0                      0            0         0     4   \n",
       "1           0                      0            0         0     4   \n",
       "2           1                      0            0         0     4   \n",
       "3           1                      0            0         0     4   \n",
       "4           1                      0            0         0     4   \n",
       "\n",
       "   ROM_Capacity  graphic_card_  old_price_USD  brand_APPLE  brand_ASUS  ...  \\\n",
       "0          1024              0        426.270            0           0  ...   \n",
       "1           512              0        277.225            0           0  ...   \n",
       "2           128              0        363.870            0           0  ...   \n",
       "3           128              0        363.870            0           0  ...   \n",
       "4           256              0        435.370            0           0  ...   \n",
       "\n",
       "   ram_type_LPDDR3  ram_type_LPDDR4  ram_type_LPDDR4X  os_DOS  os_Mac  \\\n",
       "0                0                0                 0       0       0   \n",
       "1                0                0                 0       0       0   \n",
       "2                0                0                 0       0       0   \n",
       "3                0                0                 0       0       0   \n",
       "4                0                0                 0       0       0   \n",
       "\n",
       "   os_Windows  weight_Casual  weight_Gaming  weight_ThinNlight  \\\n",
       "0           1              0              0                  1   \n",
       "1           1              1              0                  0   \n",
       "2           1              0              0                  1   \n",
       "3           1              0              0                  1   \n",
       "4           1              0              0                  1   \n",
       "\n",
       "   latest_price_USD  \n",
       "0            324.87  \n",
       "1            254.67  \n",
       "2            259.87  \n",
       "3            279.37  \n",
       "4            324.87  \n",
       "\n",
       "[5 rows x 55 columns]"
      ]
     },
     "execution_count": 32,
     "metadata": {},
     "output_type": "execute_result"
    }
   ],
   "source": [
    "# Treating all the nominal variables at once using dummy variables\n",
    "DataForML_Numeric=pd.get_dummies(DataForML)\n",
    "\n",
    "# Adding Target Variable to the data\n",
    "DataForML_Numeric['latest_price_USD']=new_df['latest_price_USD']\n",
    "\n",
    "# Printing sample rows\n",
    "DataForML_Numeric.head()"
   ]
  },
  {
   "cell_type": "markdown",
   "id": "b1858ced",
   "metadata": {},
   "source": [
    "## Machine Learning: Splitting the data into Training and Testing sample"
   ]
  },
  {
   "cell_type": "code",
   "execution_count": 33,
   "id": "62eee93f",
   "metadata": {},
   "outputs": [
    {
     "data": {
      "text/plain": [
       "Index(['Rom_is_SSD', 'External_graphic_card', 'Touchscreen', 'msoffice',\n",
       "       'ram_', 'ROM_Capacity', 'graphic_card_', 'old_price_USD', 'brand_APPLE',\n",
       "       'brand_ASUS', 'brand_Avita', 'brand_DELL', 'brand_HP', 'brand_Infinix',\n",
       "       'brand_LG', 'brand_Lenovo', 'brand_MICROSOFT', 'brand_MSI', 'brand_Mi',\n",
       "       'brand_Nokia', 'brand_RedmiBook', 'brand_SAMSUNG', 'brand_Smartron',\n",
       "       'brand_Vaio', 'brand_acer', 'brand_iball', 'brand_lenovo',\n",
       "       'brand_realme', 'processor_brand_AMD', 'processor_brand_Intel',\n",
       "       'processor_brand_M1', 'processor_brand_MediaTek',\n",
       "       'processor_brand_Qualcomm', 'processor_name_High performance',\n",
       "       'processor_name_Low performance', 'processor_name_Medium performance',\n",
       "       'processor_gnrtn_10th', 'processor_gnrtn_11th', 'processor_gnrtn_12th',\n",
       "       'processor_gnrtn_7th', 'processor_gnrtn_8th', 'processor_gnrtn_9th',\n",
       "       'ram_type_DDR3', 'ram_type_DDR4', 'ram_type_DDR5', 'ram_type_LPDDR3',\n",
       "       'ram_type_LPDDR4', 'ram_type_LPDDR4X', 'os_DOS', 'os_Mac', 'os_Windows',\n",
       "       'weight_Casual', 'weight_Gaming', 'weight_ThinNlight',\n",
       "       'latest_price_USD'],\n",
       "      dtype='object')"
      ]
     },
     "execution_count": 33,
     "metadata": {},
     "output_type": "execute_result"
    }
   ],
   "source": [
    "# Printing all the column names for our reference\n",
    "DataForML_Numeric.columns"
   ]
  },
  {
   "cell_type": "code",
   "execution_count": 34,
   "id": "5b9d4a8f",
   "metadata": {},
   "outputs": [
    {
     "ename": "KeyError",
     "evalue": "\"['brand_ALIENWARE'] not in index\"",
     "output_type": "error",
     "traceback": [
      "\u001b[1;31m---------------------------------------------------------------------------\u001b[0m",
      "\u001b[1;31mKeyError\u001b[0m                                  Traceback (most recent call last)",
      "\u001b[1;32m<ipython-input-34-9658adb19df1>\u001b[0m in \u001b[0;36m<module>\u001b[1;34m\u001b[0m\n\u001b[0;32m     18\u001b[0m             'weight_Gaming', 'weight_ThinNlight']\n\u001b[0;32m     19\u001b[0m \u001b[1;33m\u001b[0m\u001b[0m\n\u001b[1;32m---> 20\u001b[1;33m \u001b[0mX\u001b[0m\u001b[1;33m=\u001b[0m\u001b[0mDataForML_Numeric\u001b[0m\u001b[1;33m[\u001b[0m\u001b[0mPredictors\u001b[0m\u001b[1;33m]\u001b[0m\u001b[1;33m.\u001b[0m\u001b[0mvalues\u001b[0m\u001b[1;33m\u001b[0m\u001b[1;33m\u001b[0m\u001b[0m\n\u001b[0m\u001b[0;32m     21\u001b[0m \u001b[0my\u001b[0m\u001b[1;33m=\u001b[0m\u001b[0mDataForML_Numeric\u001b[0m\u001b[1;33m[\u001b[0m\u001b[0mTargetVariable\u001b[0m\u001b[1;33m]\u001b[0m\u001b[1;33m.\u001b[0m\u001b[0mvalues\u001b[0m\u001b[1;33m\u001b[0m\u001b[1;33m\u001b[0m\u001b[0m\n\u001b[0;32m     22\u001b[0m \u001b[1;33m\u001b[0m\u001b[0m\n",
      "\u001b[1;32mD:\\rs7am\\Anaconda\\lib\\site-packages\\pandas\\core\\frame.py\u001b[0m in \u001b[0;36m__getitem__\u001b[1;34m(self, key)\u001b[0m\n\u001b[0;32m   3028\u001b[0m             \u001b[1;32mif\u001b[0m \u001b[0mis_iterator\u001b[0m\u001b[1;33m(\u001b[0m\u001b[0mkey\u001b[0m\u001b[1;33m)\u001b[0m\u001b[1;33m:\u001b[0m\u001b[1;33m\u001b[0m\u001b[1;33m\u001b[0m\u001b[0m\n\u001b[0;32m   3029\u001b[0m                 \u001b[0mkey\u001b[0m \u001b[1;33m=\u001b[0m \u001b[0mlist\u001b[0m\u001b[1;33m(\u001b[0m\u001b[0mkey\u001b[0m\u001b[1;33m)\u001b[0m\u001b[1;33m\u001b[0m\u001b[1;33m\u001b[0m\u001b[0m\n\u001b[1;32m-> 3030\u001b[1;33m             \u001b[0mindexer\u001b[0m \u001b[1;33m=\u001b[0m \u001b[0mself\u001b[0m\u001b[1;33m.\u001b[0m\u001b[0mloc\u001b[0m\u001b[1;33m.\u001b[0m\u001b[0m_get_listlike_indexer\u001b[0m\u001b[1;33m(\u001b[0m\u001b[0mkey\u001b[0m\u001b[1;33m,\u001b[0m \u001b[0maxis\u001b[0m\u001b[1;33m=\u001b[0m\u001b[1;36m1\u001b[0m\u001b[1;33m,\u001b[0m \u001b[0mraise_missing\u001b[0m\u001b[1;33m=\u001b[0m\u001b[1;32mTrue\u001b[0m\u001b[1;33m)\u001b[0m\u001b[1;33m[\u001b[0m\u001b[1;36m1\u001b[0m\u001b[1;33m]\u001b[0m\u001b[1;33m\u001b[0m\u001b[1;33m\u001b[0m\u001b[0m\n\u001b[0m\u001b[0;32m   3031\u001b[0m \u001b[1;33m\u001b[0m\u001b[0m\n\u001b[0;32m   3032\u001b[0m         \u001b[1;31m# take() does not accept boolean indexers\u001b[0m\u001b[1;33m\u001b[0m\u001b[1;33m\u001b[0m\u001b[1;33m\u001b[0m\u001b[0m\n",
      "\u001b[1;32mD:\\rs7am\\Anaconda\\lib\\site-packages\\pandas\\core\\indexing.py\u001b[0m in \u001b[0;36m_get_listlike_indexer\u001b[1;34m(self, key, axis, raise_missing)\u001b[0m\n\u001b[0;32m   1264\u001b[0m             \u001b[0mkeyarr\u001b[0m\u001b[1;33m,\u001b[0m \u001b[0mindexer\u001b[0m\u001b[1;33m,\u001b[0m \u001b[0mnew_indexer\u001b[0m \u001b[1;33m=\u001b[0m \u001b[0max\u001b[0m\u001b[1;33m.\u001b[0m\u001b[0m_reindex_non_unique\u001b[0m\u001b[1;33m(\u001b[0m\u001b[0mkeyarr\u001b[0m\u001b[1;33m)\u001b[0m\u001b[1;33m\u001b[0m\u001b[1;33m\u001b[0m\u001b[0m\n\u001b[0;32m   1265\u001b[0m \u001b[1;33m\u001b[0m\u001b[0m\n\u001b[1;32m-> 1266\u001b[1;33m         \u001b[0mself\u001b[0m\u001b[1;33m.\u001b[0m\u001b[0m_validate_read_indexer\u001b[0m\u001b[1;33m(\u001b[0m\u001b[0mkeyarr\u001b[0m\u001b[1;33m,\u001b[0m \u001b[0mindexer\u001b[0m\u001b[1;33m,\u001b[0m \u001b[0maxis\u001b[0m\u001b[1;33m,\u001b[0m \u001b[0mraise_missing\u001b[0m\u001b[1;33m=\u001b[0m\u001b[0mraise_missing\u001b[0m\u001b[1;33m)\u001b[0m\u001b[1;33m\u001b[0m\u001b[1;33m\u001b[0m\u001b[0m\n\u001b[0m\u001b[0;32m   1267\u001b[0m         \u001b[1;32mreturn\u001b[0m \u001b[0mkeyarr\u001b[0m\u001b[1;33m,\u001b[0m \u001b[0mindexer\u001b[0m\u001b[1;33m\u001b[0m\u001b[1;33m\u001b[0m\u001b[0m\n\u001b[0;32m   1268\u001b[0m \u001b[1;33m\u001b[0m\u001b[0m\n",
      "\u001b[1;32mD:\\rs7am\\Anaconda\\lib\\site-packages\\pandas\\core\\indexing.py\u001b[0m in \u001b[0;36m_validate_read_indexer\u001b[1;34m(self, key, indexer, axis, raise_missing)\u001b[0m\n\u001b[0;32m   1314\u001b[0m             \u001b[1;32mif\u001b[0m \u001b[0mraise_missing\u001b[0m\u001b[1;33m:\u001b[0m\u001b[1;33m\u001b[0m\u001b[1;33m\u001b[0m\u001b[0m\n\u001b[0;32m   1315\u001b[0m                 \u001b[0mnot_found\u001b[0m \u001b[1;33m=\u001b[0m \u001b[0mlist\u001b[0m\u001b[1;33m(\u001b[0m\u001b[0mset\u001b[0m\u001b[1;33m(\u001b[0m\u001b[0mkey\u001b[0m\u001b[1;33m)\u001b[0m \u001b[1;33m-\u001b[0m \u001b[0mset\u001b[0m\u001b[1;33m(\u001b[0m\u001b[0max\u001b[0m\u001b[1;33m)\u001b[0m\u001b[1;33m)\u001b[0m\u001b[1;33m\u001b[0m\u001b[1;33m\u001b[0m\u001b[0m\n\u001b[1;32m-> 1316\u001b[1;33m                 \u001b[1;32mraise\u001b[0m \u001b[0mKeyError\u001b[0m\u001b[1;33m(\u001b[0m\u001b[1;34mf\"{not_found} not in index\"\u001b[0m\u001b[1;33m)\u001b[0m\u001b[1;33m\u001b[0m\u001b[1;33m\u001b[0m\u001b[0m\n\u001b[0m\u001b[0;32m   1317\u001b[0m \u001b[1;33m\u001b[0m\u001b[0m\n\u001b[0;32m   1318\u001b[0m             \u001b[0mnot_found\u001b[0m \u001b[1;33m=\u001b[0m \u001b[0mkey\u001b[0m\u001b[1;33m[\u001b[0m\u001b[0mmissing_mask\u001b[0m\u001b[1;33m]\u001b[0m\u001b[1;33m\u001b[0m\u001b[1;33m\u001b[0m\u001b[0m\n",
      "\u001b[1;31mKeyError\u001b[0m: \"['brand_ALIENWARE'] not in index\""
     ]
    }
   ],
   "source": [
    "# Separate Target Variable and Predictor Variables\n",
    "TargetVariable='latest_price_USD'\n",
    "Predictors=['Rom_is_SSD', 'External_graphic_card', 'Touchscreen', 'msoffice',\n",
    "            'ram_', 'ROM_Capacity', 'graphic_card_', 'old_price_USD',\n",
    "            'brand_ALIENWARE', 'brand_APPLE', 'brand_ASUS', 'brand_Avita',\n",
    "            'brand_DELL', 'brand_HP', 'brand_Infinix', 'brand_LG', 'brand_Lenovo',\n",
    "            'brand_MICROSOFT', 'brand_MSI', 'brand_Mi', 'brand_Nokia',\n",
    "            'brand_RedmiBook', 'brand_SAMSUNG', 'brand_Smartron', 'brand_Vaio',\n",
    "            'brand_acer', 'brand_iball', 'brand_lenovo', 'brand_realme',\n",
    "            'processor_brand_AMD', 'processor_brand_Intel', 'processor_brand_M1',\n",
    "            'processor_brand_MediaTek', 'processor_brand_Qualcomm',\n",
    "            'processor_name_High performance', 'processor_name_Low performance',\n",
    "            'processor_name_Medium performance', 'processor_gnrtn_10th',\n",
    "            'processor_gnrtn_11th', 'processor_gnrtn_12th', 'processor_gnrtn_7th',\n",
    "            'processor_gnrtn_8th', 'processor_gnrtn_9th', 'ram_type_DDR3',\n",
    "            'ram_type_DDR4', 'ram_type_DDR5', 'ram_type_LPDDR3', 'ram_type_LPDDR4',\n",
    "            'ram_type_LPDDR4X', 'os_DOS', 'os_Mac', 'os_Windows', 'weight_Casual',\n",
    "            'weight_Gaming', 'weight_ThinNlight']\n",
    "\n",
    "X=DataForML_Numeric[Predictors].values\n",
    "y=DataForML_Numeric[TargetVariable].values\n",
    "\n",
    "# Split the data into training and testing set\n",
    "from sklearn.model_selection import train_test_split\n",
    "X_train, X_test, y_train, y_test = train_test_split(X, y, test_size=0.3, random_state=587)\n",
    " "
   ]
  },
  {
   "cell_type": "code",
   "execution_count": null,
   "id": "054c9d01",
   "metadata": {},
   "outputs": [],
   "source": [
    "# Sanity check for the sampled data\n",
    "print(X_train.shape)\n",
    "print(y_train.shape)\n",
    "print(X_test.shape)\n",
    "print(y_test.shape)"
   ]
  },
  {
   "cell_type": "markdown",
   "id": "385ad2de",
   "metadata": {},
   "source": [
    "## Multiple Linear Regression"
   ]
  },
  {
   "cell_type": "code",
   "execution_count": null,
   "id": "0122e27c",
   "metadata": {},
   "outputs": [],
   "source": [
    "# Multiple Linear Regression\n",
    "from sklearn.linear_model import LinearRegression\n",
    "RegModel = LinearRegression()\n",
    "\n",
    "# Printing all the parameters of Linear regression\n",
    "print(RegModel)\n",
    "\n",
    "# Creating the model on Training Data\n",
    "LREG=RegModel.fit(X_train,y_train)\n",
    "prediction=LREG.predict(X_test)\n",
    "\n",
    "# Taking the standardized values to original scale\n",
    "\n",
    "\n",
    "from sklearn import metrics\n",
    "# Measuring Goodness of fit in Training data\n",
    "print('R2 Value:',metrics.r2_score(y_train, LREG.predict(X_train)))\n",
    "\n",
    "###########################################################################\n",
    "print('\\n##### Model Validation and Accuracy Calculations ##########')\n",
    "\n",
    "# Printing some sample values of prediction\n",
    "TestingDataResults=pd.DataFrame(data=X_test, columns=Predictors)\n",
    "TestingDataResults[TargetVariable]=y_test\n",
    "TestingDataResults[('Predicted'+TargetVariable)]=np.round(prediction)\n",
    "\n",
    "# Printing sample prediction values\n",
    "print(TestingDataResults[[TargetVariable,'Predicted'+TargetVariable]].head())\n",
    "\n",
    "# Calculating the error for each row\n",
    "TestingDataResults['APE']=100 * ((abs(\n",
    "  TestingDataResults['latest_price_USD']-TestingDataResults['Predictedlatest_price_USD']))/TestingDataResults['latest_price_USD'])\n",
    "\n",
    "MAPE=np.mean(TestingDataResults['APE'])\n",
    "MedianMAPE=np.median(TestingDataResults['APE'])\n",
    "\n",
    "Accuracy =100 - MAPE\n",
    "MedianAccuracy=100- MedianMAPE\n",
    "print('Mean Accuracy on test data:', Accuracy) # Can be negative sometimes due to outlier\n",
    "print('Median Accuracy on test data:', MedianAccuracy)\n",
    "\n",
    "\n",
    "# Defining a custom function to calculate accuracy\n",
    "# Make sure there are no zeros in the Target variable if you are using MAPE\n",
    "def Accuracy_Score(orig,pred):\n",
    "    MAPE = np.mean(100 * (np.abs(orig-pred)/orig))\n",
    "    #print('#'*70,'Accuracy:', 100-MAPE)\n",
    "    return(100-MAPE)\n",
    "\n",
    "# Custom Scoring MAPE calculation\n",
    "from sklearn.metrics import make_scorer\n",
    "custom_Scoring=make_scorer(Accuracy_Score, greater_is_better=True)\n",
    "\n",
    "# Importing cross validation function from sklearn\n",
    "from sklearn.model_selection import cross_val_score\n",
    "\n",
    "# Running 10-Fold Cross validation on a given algorithm\n",
    "# Passing full data X and y because the K-fold will split the data and automatically choose train/test\n",
    "Accuracy_Values=cross_val_score(RegModel, X , y, cv=10, scoring=custom_Scoring)\n",
    "print('\\nAccuracy values for 10-fold Cross Validation:\\n',Accuracy_Values)\n",
    "print('\\nFinal Average Accuracy of the model:', round(Accuracy_Values.mean(),2))"
   ]
  },
  {
   "cell_type": "markdown",
   "id": "60c466e3",
   "metadata": {},
   "source": [
    "## AdaBoost"
   ]
  },
  {
   "cell_type": "code",
   "execution_count": null,
   "id": "4ce6b093",
   "metadata": {},
   "outputs": [],
   "source": [
    "# Adaboost (Boosting of multiple Decision Trees)\n",
    "from sklearn.ensemble import AdaBoostRegressor\n",
    "from sklearn.tree import DecisionTreeRegressor\n",
    "\n",
    "# Choosing Decision Tree with 10 level as the weak learner\n",
    "DTR=DecisionTreeRegressor(max_depth=15)\n",
    "RegModel = AdaBoostRegressor(n_estimators=100, base_estimator=DTR ,learning_rate=0.04)\n",
    "\n",
    "# Printing all the parameters of Adaboost\n",
    "print(RegModel)\n",
    "\n",
    "# Creating the model on Training Data\n",
    "AB=RegModel.fit(X_train,y_train)\n",
    "prediction=AB.predict(X_test)\n",
    "\n",
    "from sklearn import metrics\n",
    "# Measuring Goodness of fit in Training data\n",
    "print('R2 Value:',metrics.r2_score(y_train, AB.predict(X_train)))\n",
    "\n",
    "# Plotting the feature importance for Top 10 most important columns\n",
    "%matplotlib inline\n",
    "feature_importances = pd.Series(AB.feature_importances_, index=Predictors)\n",
    "feature_importances.nlargest(10).plot(kind='barh')\n",
    "\n",
    "###########################################################################\n",
    "print('\\n##### Model Validation and Accuracy Calculations ##########')\n",
    "\n",
    "# Printing some sample values of prediction\n",
    "TestingDataResults=pd.DataFrame(data=X_test, columns=Predictors)\n",
    "TestingDataResults[TargetVariable]=y_test\n",
    "TestingDataResults[('Predicted'+TargetVariable)]=np.round(prediction)\n",
    "\n",
    "# Printing sample prediction values\n",
    "print(TestingDataResults[[TargetVariable,'Predicted'+TargetVariable]].head())\n",
    "\n",
    "# Calculating the error for each row\n",
    "TestingDataResults['APE']=100 * ((abs(\n",
    "  TestingDataResults['latest_price_USD']-TestingDataResults['Predictedlatest_price_USD']))/TestingDataResults['latest_price_USD'])\n",
    "\n",
    "MAPE=np.mean(TestingDataResults['APE'])\n",
    "MedianMAPE=np.median(TestingDataResults['APE'])\n",
    "\n",
    "Accuracy =100 - MAPE\n",
    "MedianAccuracy=100- MedianMAPE\n",
    "print('Mean Accuracy on test data:', Accuracy) # Can be negative sometimes due to outlier\n",
    "print('Median Accuracy on test data:', MedianAccuracy)\n",
    "\n",
    "\n",
    "# Defining a custom function to calculate accuracy\n",
    "# Make sure there are no zeros in the Target variable if you are using MAPE\n",
    "def Accuracy_Score(orig,pred):\n",
    "    MAPE = np.mean(100 * (np.abs(orig-pred)/orig))\n",
    "    #print('#'*70,'Accuracy:', 100-MAPE)\n",
    "    return(100-MAPE)\n",
    "\n",
    "# Custom Scoring MAPE calculation\n",
    "from sklearn.metrics import make_scorer\n",
    "custom_Scoring=make_scorer(Accuracy_Score, greater_is_better=True)\n",
    "\n",
    "# Importing cross validation function from sklearn\n",
    "from sklearn.model_selection import cross_val_score\n",
    "\n",
    "# Running 10-Fold Cross validation on a given algorithm\n",
    "# Passing full data X and y because the K-fold will split the data and automatically choose train/test\n",
    "Accuracy_Values=cross_val_score(RegModel, X , y, cv=10, scoring=custom_Scoring)\n",
    "print('\\nAccuracy values for 10-fold Cross Validation:\\n',Accuracy_Values)\n",
    "print('\\nFinal Average Accuracy of the model:', round(Accuracy_Values.mean(),2))"
   ]
  },
  {
   "cell_type": "markdown",
   "id": "8e55a82c",
   "metadata": {},
   "source": [
    "## XGBoost"
   ]
  },
  {
   "cell_type": "code",
   "execution_count": null,
   "id": "d36470b4",
   "metadata": {},
   "outputs": [],
   "source": [
    "# Xtreme Gradient Boosting (XGBoost)\n",
    "from xgboost import XGBRegressor\n",
    "RegModel=XGBRegressor(max_depth=15, \n",
    "                      learning_rate=0.1, \n",
    "                      n_estimators=100, \n",
    "                      objective='reg:linear', \n",
    "                      booster='gbtree')\n",
    "\n",
    "# Printing all the parameters of XGBoost\n",
    "print(RegModel)\n",
    "\n",
    "# Creating the model on Training Data\n",
    "XGB=RegModel.fit(X_train,y_train)\n",
    "prediction=XGB.predict(X_test)\n",
    "\n",
    "from sklearn import metrics\n",
    "# Measuring Goodness of fit in Training data\n",
    "print('R2 Value:',metrics.r2_score(y_train, XGB.predict(X_train)))\n",
    "\n",
    "# Plotting the feature importance for Top 10 most important columns\n",
    "%matplotlib inline\n",
    "feature_importances = pd.Series(XGB.feature_importances_, index=Predictors)\n",
    "feature_importances.nlargest(10).plot(kind='barh')\n",
    "###########################################################################\n",
    "print('\\n##### Model Validation and Accuracy Calculations ##########')\n",
    "\n",
    "# Printing some sample values of prediction\n",
    "TestingDataResults=pd.DataFrame(data=X_test, columns=Predictors)\n",
    "TestingDataResults[TargetVariable]=y_test\n",
    "TestingDataResults[('Predicted'+TargetVariable)]=np.round(prediction)\n",
    "\n",
    "# Printing sample prediction values\n",
    "print(TestingDataResults[[TargetVariable,'Predicted'+TargetVariable]].head())\n",
    "\n",
    "# Calculating the error for each row\n",
    "TestingDataResults['APE']=100 * ((abs(\n",
    "  TestingDataResults['latest_price_USD']-TestingDataResults['Predictedlatest_price_USD']))/TestingDataResults['latest_price_USD'])\n",
    "\n",
    "\n",
    "\n",
    "MAPE=np.mean(TestingDataResults['APE'])\n",
    "MedianMAPE=np.median(TestingDataResults['APE'])\n",
    "\n",
    "Accuracy =100 - MAPE\n",
    "MedianAccuracy=100- MedianMAPE\n",
    "print('Mean Accuracy on test data:', Accuracy) # Can be negative sometimes due to outlier\n",
    "print('Median Accuracy on test data:', MedianAccuracy)\n",
    "\n",
    "\n",
    "# Defining a custom function to calculate accuracy\n",
    "# Make sure there are no zeros in the Target variable if you are using MAPE\n",
    "def Accuracy_Score(orig,pred):\n",
    "    MAPE = np.mean(100 * (np.abs(orig-pred)/orig))\n",
    "    #print('#'*70,'Accuracy:', 100-MAPE)\n",
    "    return(100-MAPE)\n",
    "\n",
    "# Custom Scoring MAPE calculation\n",
    "from sklearn.metrics import make_scorer\n",
    "custom_Scoring=make_scorer(Accuracy_Score, greater_is_better=True)\n",
    "\n",
    "# Importing cross validation function from sklearn\n",
    "from sklearn.model_selection import cross_val_score\n",
    "\n",
    "# Running 10-Fold Cross validation on a given algorithm\n",
    "# Passing full data X and y because the K-fold will split the data and automatically choose train/test\n",
    "Accuracy_Values=cross_val_score(RegModel, X , y, cv=10, scoring=custom_Scoring)\n",
    "print('\\nAccuracy values for 10-fold Cross Validation:\\n',Accuracy_Values)\n",
    "print('\\nFinal Average Accuracy of the model:', round(Accuracy_Values.mean(),2))"
   ]
  },
  {
   "cell_type": "markdown",
   "id": "88806351",
   "metadata": {},
   "source": [
    "## Deployment of the Model"
   ]
  },
  {
   "cell_type": "code",
   "execution_count": null,
   "id": "8de6fa2a",
   "metadata": {},
   "outputs": [],
   "source": [
    "# Separate Target Variable and Predictor Variables\n",
    "TargetVariable='latest_price_USD'\n",
    "\n",
    "# Selecting the final set of predictors for the deployment\n",
    "# Based on the variable importance charts of multiple algorithms above\n",
    "Predictors=['Rom_is_SSD', 'External_graphic_card', 'Touchscreen', 'msoffice',\n",
    "            'ram_', 'ROM_Capacity', 'graphic_card_', 'old_price_USD',\n",
    "            'brand_ALIENWARE', 'brand_APPLE', 'brand_ASUS', 'brand_Avita',\n",
    "            'brand_DELL', 'brand_HP', 'brand_Infinix', 'brand_LG', 'brand_Lenovo',\n",
    "            'brand_MICROSOFT', 'brand_MSI', 'brand_Mi', 'brand_Nokia',\n",
    "            'brand_RedmiBook', 'brand_SAMSUNG', 'brand_Smartron', 'brand_Vaio',\n",
    "            'brand_acer', 'brand_iball', 'brand_lenovo', 'brand_realme',\n",
    "            'processor_brand_AMD', 'processor_brand_Intel', 'processor_brand_M1',\n",
    "            'processor_brand_MediaTek', 'processor_brand_Qualcomm',\n",
    "            'processor_name_High performance', 'processor_name_Low performance',\n",
    "            'processor_name_Medium performance', 'processor_gnrtn_10th',\n",
    "            'processor_gnrtn_11th', 'processor_gnrtn_12th', 'processor_gnrtn_7th',\n",
    "            'processor_gnrtn_8th', 'processor_gnrtn_9th', 'ram_type_DDR3',\n",
    "            'ram_type_DDR4', 'ram_type_DDR5', 'ram_type_LPDDR3', 'ram_type_LPDDR4',\n",
    "            'ram_type_LPDDR4X', 'os_DOS', 'os_Mac', 'os_Windows', 'weight_Casual',\n",
    "            'weight_Gaming', 'weight_ThinNlight']\n",
    "\n",
    "X=DataForML_Numeric[Predictors].values\n",
    "y=DataForML_Numeric[TargetVariable].values\n",
    "\n",
    "### Sandardization of data ###\n",
    "from sklearn.preprocessing import StandardScaler, MinMaxScaler\n",
    "# Choose either standardization or Normalization\n",
    "# On this data Min Max Normalization produced better results\n",
    "\n",
    "# Choose between standardization and MinMAx normalization\n",
    "#PredictorScaler=StandardScaler()\n",
    "PredictorScaler=MinMaxScaler()\n",
    "\n",
    "# Storing the fit object for later reference\n",
    "PredictorScalerFit=PredictorScaler.fit(X)\n",
    "\n",
    "# Generating the standardized values of X\n",
    "X=PredictorScalerFit.transform(X)\n",
    "\n",
    "print(X.shape)\n",
    "print(y.shape)"
   ]
  },
  {
   "cell_type": "markdown",
   "id": "1d9d7107",
   "metadata": {},
   "source": [
    "### Cross validating the final model accuracy with less predictors"
   ]
  },
  {
   "cell_type": "code",
   "execution_count": null,
   "id": "dccbd6f7",
   "metadata": {},
   "outputs": [],
   "source": [
    "# Importing cross validation function from sklearn\n",
    "from sklearn.model_selection import cross_val_score\n",
    "\n",
    "# Using final hyperparameters\n",
    "# Xtreme Gradient Boosting (XGBoost)\n",
    "from xgboost import XGBRegressor\n",
    "RegModel=XGBRegressor(max_depth=15, \n",
    "                      learning_rate=0.1, \n",
    "                      n_estimators=100, \n",
    "                      objective='reg:linear', \n",
    "                      booster='gbtree')\n",
    "\n",
    "# Running 10-Fold Cross validation on a given algorithm\n",
    "# Passing full data X and y because the K-fold will split the data and automatically choose train/test\n",
    "Accuracy_Values=cross_val_score(RegModel, X , y, cv=10, scoring=custom_Scoring)\n",
    "print('\\nAccuracy values for 10-fold Cross Validation:\\n',Accuracy_Values)\n",
    "print('\\nFinal Average Accuracy of the model:', round(Accuracy_Values.mean(),2))"
   ]
  },
  {
   "cell_type": "markdown",
   "id": "1261a4af",
   "metadata": {},
   "source": [
    "#### Step 1. Retraining the model using 100% data"
   ]
  },
  {
   "cell_type": "code",
   "execution_count": null,
   "id": "82c2f73b",
   "metadata": {},
   "outputs": [],
   "source": [
    "# Training the model on 100% Data available\n",
    "Final_XGB_Model=RegModel.fit(X,y)"
   ]
  },
  {
   "cell_type": "markdown",
   "id": "5c31bfe7",
   "metadata": {},
   "source": [
    "#### Step 2. Save the model as a serialized file which can be stored anywhere"
   ]
  },
  {
   "cell_type": "code",
   "execution_count": null,
   "id": "d90f49df",
   "metadata": {},
   "outputs": [],
   "source": [
    "import pickle\n",
    "import os\n",
    "\n",
    "# Saving the Python objects as serialized files can be done using pickle library\n",
    "# Here let us save the Final model\n",
    "with open('Final_XGB_Model.pkl', 'wb') as fileWriteStream:\n",
    "    pickle.dump(Final_XGB_Model, fileWriteStream)\n",
    "    # Don't forget to close the filestream!\n",
    "    fileWriteStream.close()\n",
    "    \n",
    "print('pickle file of Predictive Model is saved at Location:',os.getcwd())"
   ]
  },
  {
   "cell_type": "markdown",
   "id": "888e95c6",
   "metadata": {},
   "source": [
    "#### Step 3. Create a python function"
   ]
  },
  {
   "cell_type": "code",
   "execution_count": null,
   "id": "45bd7f27",
   "metadata": {},
   "outputs": [],
   "source": [
    "# This Function can be called from any from any front end tool/website\n",
    "def FunctionPredictResult(InputData):\n",
    "    import pandas as pd\n",
    "    Num_Inputs=InputData.shape[0]\n",
    "    \n",
    "    # Making sure the input data has same columns as it was used for training the model\n",
    "    # Also, if standardization/normalization was done, then same must be done for new input\n",
    "    \n",
    "    # Appending the new data with the Training data\n",
    "    DataForML=pd.read_pickle('DataForML.pkl')\n",
    "    InputData=InputData.append(DataForML)\n",
    "    \n",
    "    # Treating the binary nominal variables first\n",
    "    DataForML['Touchscreen'].replace({'No':0, 'Yes':1}, inplace=True)\n",
    "    DataForML['msoffice'].replace({'No':0, 'Yes':1}, inplace=True)\n",
    "    \n",
    "    # Generating dummy variables for rest of the nominal variables\n",
    "    InputData=pd.get_dummies(InputData)\n",
    "            \n",
    "    # Maintaining the same order of columns as it was during the model training\n",
    "    Predictors=['Rom_is_SSD', 'External_graphic_card', 'Touchscreen', 'msoffice',\n",
    "                'ram_', 'ROM_Capacity', 'graphic_card_', 'old_price_USD',\n",
    "                'brand_ALIENWARE', 'brand_APPLE', 'brand_ASUS', 'brand_Avita',\n",
    "                'brand_DELL', 'brand_HP', 'brand_Infinix', 'brand_LG', 'brand_Lenovo',\n",
    "                'brand_MICROSOFT', 'brand_MSI', 'brand_Mi', 'brand_Nokia',\n",
    "                'brand_RedmiBook', 'brand_SAMSUNG', 'brand_Smartron', 'brand_Vaio',\n",
    "                'brand_acer', 'brand_iball', 'brand_lenovo', 'brand_realme',\n",
    "                'processor_brand_AMD', 'processor_brand_Intel', 'processor_brand_M1',\n",
    "                'processor_brand_MediaTek', 'processor_brand_Qualcomm',\n",
    "                'processor_name_High performance', 'processor_name_Low performance',\n",
    "                'processor_name_Medium performance', 'processor_gnrtn_10th',\n",
    "                'processor_gnrtn_11th', 'processor_gnrtn_12th', 'processor_gnrtn_7th',\n",
    "                'processor_gnrtn_8th', 'processor_gnrtn_9th', 'ram_type_DDR3',\n",
    "                'ram_type_DDR4', 'ram_type_DDR5', 'ram_type_LPDDR3', 'ram_type_LPDDR4',\n",
    "                'ram_type_LPDDR4X', 'os_DOS', 'os_Mac', 'os_Windows', 'weight_Casual',\n",
    "                'weight_Gaming', 'weight_ThinNlight']\n",
    "    \n",
    "    # Generating the input values to the model\n",
    "    X=InputData[Predictors].values[0:Num_Inputs]\n",
    "    \n",
    "    # Generating the standardized values of X since it was done while model training also\n",
    "    X=PredictorScalerFit.transform(X)\n",
    "    \n",
    "    # Loading the Function from pickle file\n",
    "    import pickle\n",
    "    with open('Final_XGB_Model.pkl', 'rb') as fileReadStream:\n",
    "        PredictionModel=pickle.load(fileReadStream)\n",
    "        # Don't forget to close the filestream!\n",
    "        fileReadStream.close()\n",
    "            \n",
    "    # Genprice Predictions\n",
    "    Prediction=PredictionModel.predict(X)\n",
    "    PredictionResult=pd.DataFrame(Prediction, columns=['Prediction'])\n",
    "    return(round(PredictionResult))"
   ]
  },
  {
   "cell_type": "code",
   "execution_count": null,
   "id": "ae0b8007",
   "metadata": {
    "scrolled": false
   },
   "outputs": [],
   "source": [
    "# Calling the function for some new data\n",
    "NewSampleData=pd.read_csv('deployment.csv')\n",
    "\n",
    "print(NewSampleData)\n",
    "\n",
    "# Calling the Function for prediction\n",
    "FunctionPredictResult(InputData= NewSampleData)"
   ]
  },
  {
   "cell_type": "code",
   "execution_count": null,
   "id": "7c630afb",
   "metadata": {},
   "outputs": [],
   "source": []
  }
 ],
 "metadata": {
  "kernelspec": {
   "display_name": "Python 3",
   "language": "python",
   "name": "python3"
  },
  "language_info": {
   "codemirror_mode": {
    "name": "ipython",
    "version": 3
   },
   "file_extension": ".py",
   "mimetype": "text/x-python",
   "name": "python",
   "nbconvert_exporter": "python",
   "pygments_lexer": "ipython3",
   "version": "3.8.8"
  }
 },
 "nbformat": 4,
 "nbformat_minor": 5
}
